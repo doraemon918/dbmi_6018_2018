{
 "cells": [
  {
   "cell_type": "markdown",
   "metadata": {},
   "source": [
    "# Continuous Probability"
   ]
  },
  {
   "cell_type": "code",
   "execution_count": null,
   "metadata": {},
   "outputs": [],
   "source": [
    "%matplotlib inline"
   ]
  },
  {
   "cell_type": "code",
   "execution_count": null,
   "metadata": {},
   "outputs": [],
   "source": [
    "from sympy import *\n",
    "x, y = symbols('x y')\n",
    "\n",
    "init_printing(use_unicode=True)\n",
    "from sympy.plotting import plot\n",
    "from sympy import symbols\n",
    "from sympy.plotting import plot\n",
    "import math\n",
    "import numpy as np\n",
    "import matplotlib.pyplot as plt\n",
    "from ipywidgets import interact\n",
    "import ipywidgets as widgets\n",
    "import seaborn as sns"
   ]
  },
  {
   "cell_type": "code",
   "execution_count": null,
   "metadata": {},
   "outputs": [],
   "source": [
    "import functools"
   ]
  },
  {
   "cell_type": "code",
   "execution_count": null,
   "metadata": {},
   "outputs": [],
   "source": [
    "from scipy.integrate import quad"
   ]
  },
  {
   "cell_type": "code",
   "execution_count": null,
   "metadata": {},
   "outputs": [],
   "source": [
    "dx = 0.05\n",
    "xs = np.arange(-5,5+dx,dx)"
   ]
  },
  {
   "cell_type": "markdown",
   "metadata": {},
   "source": [
    "#### Normal Distribution"
   ]
  },
  {
   "cell_type": "code",
   "execution_count": null,
   "metadata": {},
   "outputs": [],
   "source": [
    "def gauss(x, A=1, mu =0.0, s=1.0):\n",
    "    return A*np.exp(-((x-mu)**2)/(2*s**2))/(s*np.sqrt(2*np.pi))\n"
   ]
  },
  {
   "cell_type": "markdown",
   "metadata": {},
   "source": [
    "#### Partial Application of Functions"
   ]
  },
  {
   "cell_type": "code",
   "execution_count": null,
   "metadata": {},
   "outputs": [],
   "source": [
    "g1 = functools.partial(gauss, A=1.0, s=1.0, mu=0.0)\n",
    "g2 = functools.partial(gauss, A=1.0, s=1.5, mu=0.0)\n",
    "g3 = functools.partial(gauss, A=1.0, s=2.0, mu=0.0)"
   ]
  },
  {
   "cell_type": "markdown",
   "metadata": {},
   "source": [
    "#### [Rayleigh Distribution](https://en.wikipedia.org/wiki/Rayleigh_distribution)"
   ]
  },
  {
   "cell_type": "code",
   "execution_count": null,
   "metadata": {},
   "outputs": [],
   "source": [
    "def rayleigh(x, s=0.5):\n",
    "    return (x/s**2)*np.exp(-x**2/(2*s**2))"
   ]
  },
  {
   "cell_type": "markdown",
   "metadata": {},
   "source": [
    "#### Partial Application of Functions"
   ]
  },
  {
   "cell_type": "code",
   "execution_count": null,
   "metadata": {},
   "outputs": [],
   "source": [
    "r1 = functools.partial(rayleigh, s=0.5)\n",
    "r2 = functools.partial(rayleigh, s=1.0)\n",
    "r3 = functools.partial(rayleigh, s=2.0)"
   ]
  },
  {
   "cell_type": "markdown",
   "metadata": {},
   "source": [
    "### Probabilities are areas under curves\n",
    "#### Integration\n",
    "\n",
    "* Symbolic (SymPy)\n",
    "* Numeric (Scipy)"
   ]
  },
  {
   "cell_type": "markdown",
   "metadata": {},
   "source": [
    "### Visualizing Cumulative Probabilities"
   ]
  },
  {
   "cell_type": "code",
   "execution_count": null,
   "metadata": {},
   "outputs": [],
   "source": [
    "@interact(func={\"gauss sigma=1.0\":g1,\n",
    "                \"gauss sigma=1.5\":g2,\n",
    "                \"gauss sigma=2.0\":g3}, T=(-10,10,0.05))\n",
    "def disp1a(func, T):\n",
    "    dx = 0.05\n",
    "    xs = np.arange(-5,5+dx,dx)\n",
    "    ys = func(xs)\n",
    "    rslts = quad(func, -np.inf, T)\n",
    "    fig,ax = plt.subplots(1)\n",
    "    ax.plot(xs,ys)\n",
    "    ax.fill_between(xs,ys, where =xs < T)\n",
    "    ax.set_title(r\"$p(x<T)=$%0.4f\"%rslts[0])\n"
   ]
  },
  {
   "cell_type": "markdown",
   "metadata": {},
   "source": [
    "### Visualizing Interval Probabilities"
   ]
  },
  {
   "cell_type": "code",
   "execution_count": null,
   "metadata": {},
   "outputs": [],
   "source": [
    "@interact(func={\"gauss sigma=1.0\":g1,\n",
    "                \"gauss sigma=1.5\":g2,\n",
    "                \"gauss sigma=2.0\":g3}, \n",
    "         L=(-10,10,0.05),\n",
    "         H=(-10, 10, 0.05))\n",
    "def disp1b(func, L, H):\n",
    "    dx = 0.05\n",
    "    xs = np.arange(-5,5+dx,dx)\n",
    "    ys = func(xs)\n",
    "    rslts = quad(func, L, H)\n",
    "    fig,ax = plt.subplots(1)\n",
    "    ax.plot(xs,ys)\n",
    "    ax.fill_between(xs,ys, where =(L < xs) & (xs < H))\n",
    "    ax.set_title(r\"$p(L < x<H)=$%0.4f\"%rslts[0])"
   ]
  },
  {
   "cell_type": "code",
   "execution_count": null,
   "metadata": {},
   "outputs": [],
   "source": [
    "@interact(func={\"rayleigh sigma=0.5\":r1,\n",
    "                \"rayleigh sigma=1.0\":r2,\n",
    "                \"rayleigh sigma=2.0\":r3}, T=(0,20,0.1))\n",
    "def disp2(func, T):\n",
    "    fig,ax = plt.subplots(1)\n",
    "    dx = 0.01\n",
    "    xs = np.arange(0,10+dx,dx)\n",
    "    ys = func(xs)\n",
    "    rslts = quad(func, 0, T)\n",
    "    ax.plot(xs,ys, color='k')\n",
    "    ax.fill_between(xs,ys, where =xs < T, color=(1.0,0.0,0.0,0.2))\n",
    "    ax.set_title(r\"$p(x<T)=$%0.4f\"%rslts[0])\n"
   ]
  },
  {
   "cell_type": "code",
   "execution_count": null,
   "metadata": {},
   "outputs": [],
   "source": [
    "quad(gauss, -np.inf, np.inf)"
   ]
  },
  {
   "cell_type": "code",
   "execution_count": null,
   "metadata": {},
   "outputs": [],
   "source": [
    "g1=functools.partial(gauss, A=0.5, s=1.0, mu=0.0)\n",
    "g2 = functools.partial(gauss, A=0.8, s=1.5, mu=4.0)\n",
    "g3 = functools.partial(gauss, A=0.7, s=1.1, mu=-3.0)"
   ]
  },
  {
   "cell_type": "code",
   "execution_count": null,
   "metadata": {},
   "outputs": [],
   "source": [
    "def f1(xs):\n",
    "    return g1(xs)+g2(xs) + g3(xs)"
   ]
  },
  {
   "cell_type": "code",
   "execution_count": null,
   "metadata": {},
   "outputs": [],
   "source": [
    "x2 = np.arange(-10,10,0.01)\n",
    "plt.plot(x2,f1(x2))"
   ]
  },
  {
   "cell_type": "markdown",
   "metadata": {},
   "source": [
    "### How could we convert this into a PDF?"
   ]
  },
  {
   "cell_type": "code",
   "execution_count": null,
   "metadata": {},
   "outputs": [],
   "source": [
    "quad(f1, -np.inf, np.inf)"
   ]
  },
  {
   "cell_type": "code",
   "execution_count": null,
   "metadata": {},
   "outputs": [],
   "source": [
    "import pandas as pd\n",
    "from scipy.optimize import curve_fit"
   ]
  },
  {
   "cell_type": "code",
   "execution_count": null,
   "metadata": {},
   "outputs": [],
   "source": [
    "age = pd.read_excel(\"usa_age.xlsx\")\n",
    "age.columns"
   ]
  },
  {
   "cell_type": "code",
   "execution_count": null,
   "metadata": {},
   "outputs": [],
   "source": [
    "ax = sns.lineplot(data=age, x=\"Age (interval start)\", y='Male', legend=\"brief\")\n",
    "sns.lineplot(data=age, x=\"Age (interval start)\", y='Female', legend=\"brief\", ax=ax)\n",
    "ax.set_ylabel(\"count (Millions)\")\n",
    "ax.legend([\"Male\", \"Female\"])"
   ]
  },
  {
   "cell_type": "code",
   "execution_count": null,
   "metadata": {},
   "outputs": [],
   "source": [
    "def age_func(x, a, b, c, d, e):\n",
    "    return np.heaviside(x,0)*(a*x**4+b*x**3+c*x**2+d*x+e)"
   ]
  },
  {
   "cell_type": "code",
   "execution_count": null,
   "metadata": {},
   "outputs": [],
   "source": [
    "mpopt, mpcov = curve_fit(age_func, age[\"Age (interval start)\"], age[\"Male\"])"
   ]
  },
  {
   "cell_type": "code",
   "execution_count": null,
   "metadata": {},
   "outputs": [],
   "source": [
    "plt.plot(xs, np.heaviside(xs,0))"
   ]
  },
  {
   "cell_type": "code",
   "execution_count": null,
   "metadata": {},
   "outputs": [],
   "source": [
    "plt.plot(np.arange(0,105,0.5), age_func(np.arange(0,105,0.5), *popt))"
   ]
  },
  {
   "cell_type": "markdown",
   "metadata": {},
   "source": [
    "### [How could we use this as a random number generator](http://matlabtricks.com/post-44/generate-random-numbers-with-a-given-distribution)\n",
    "* [Also](https://en.wikipedia.org/wiki/Inverse_transform_sampling)"
   ]
  },
  {
   "cell_type": "code",
   "execution_count": null,
   "metadata": {},
   "outputs": [],
   "source": []
  }
 ],
 "metadata": {
  "kernelspec": {
   "display_name": "Python 3",
   "language": "python",
   "name": "python3"
  },
  "language_info": {
   "codemirror_mode": {
    "name": "ipython",
    "version": 3
   },
   "file_extension": ".py",
   "mimetype": "text/x-python",
   "name": "python",
   "nbconvert_exporter": "python",
   "pygments_lexer": "ipython3",
   "version": "3.7.0"
  }
 },
 "nbformat": 4,
 "nbformat_minor": 2
}
