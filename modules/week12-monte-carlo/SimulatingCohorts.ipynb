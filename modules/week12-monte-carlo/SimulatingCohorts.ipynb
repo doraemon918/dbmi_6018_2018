{
 "cells": [
  {
   "cell_type": "code",
   "execution_count": null,
   "metadata": {},
   "outputs": [],
   "source": [
    "from person import Person\n",
    "import person\n",
    "import pandas as pd\n",
    "import datetime\n",
    "import importlib\n",
    "import random"
   ]
  },
  {
   "cell_type": "code",
   "execution_count": null,
   "metadata": {},
   "outputs": [],
   "source": [
    "mortality = pd.read_html(\"https://www.ssa.gov/oact/STATS/table4c6.html\", \n",
    "                         skiprows=4, \n",
    "                         header=None)[0]\n",
    "mortality = mortality.iloc[0:120,[0,1,4]]\n",
    "mortality.columns = pd.Index((\"Age\",\n",
    "                                   \"Male\", \n",
    "                                   \"Female\"))\n",
    "mortality.head()"
   ]
  },
  {
   "cell_type": "code",
   "execution_count": null,
   "metadata": {},
   "outputs": [],
   "source": [
    "class Mortal(person.Person):\n",
    "    def __init__(self, *args, **kwargs):\n",
    "        self.__alive=True\n",
    "        self.__dod = None\n",
    "        super(Mortal, self).__init__(*args, **kwargs)\n",
    "        \n",
    "    def dies(self, date, probability_of_death):\n",
    "        if random.random() < probability_of_death:\n",
    "            self.__alive=False\n",
    "            self.__dod = date\n",
    "            return True\n",
    "        else:\n",
    "            return False\n",
    "    @property\n",
    "    def alive(self):\n",
    "        return self.__alive\n",
    "    \n",
    "    def age(self, date):\n",
    "        pass\n",
    "    \n"
   ]
  },
  {
   "cell_type": "code",
   "execution_count": null,
   "metadata": {},
   "outputs": [],
   "source": []
  },
  {
   "cell_type": "code",
   "execution_count": null,
   "metadata": {},
   "outputs": [],
   "source": [
    "def increment_study(alive, dead, date, mortality, unit=10):\n",
    "    \n",
    "    delta = 365/unit\n",
    "    mkeys = {\"M\":\"Male prob. death\", \"F\":\"Female prob. death\"}\n",
    "    date += relativedelta(days=delta)\n",
    "    for p in alive:\n",
    "        age = p.age(date)\n",
    "        if random.random()< mortality.iloc[age[\"years\"]][mkeys[p.sex]]/delta:\n",
    "            p.dies(date)\n",
    "            dead.append(p)\n",
    "    return None"
   ]
  },
  {
   "cell_type": "code",
   "execution_count": null,
   "metadata": {},
   "outputs": [],
   "source": [
    "dob = datetime.datetime(1970, 1, 1)"
   ]
  },
  {
   "cell_type": "code",
   "execution_count": null,
   "metadata": {},
   "outputs": [],
   "source": [
    "alive = [Mortal(dob=dob, sex = (lambda : \"Female\" if random.random() < 0.52 else \"Male\")()) for i in range(1000)]\n",
    "dead = []"
   ]
  },
  {
   "cell_type": "code",
   "execution_count": null,
   "metadata": {},
   "outputs": [],
   "source": [
    "\n",
    "while True:\n",
    "    pass\n",
    "    "
   ]
  },
  {
   "cell_type": "code",
   "execution_count": null,
   "metadata": {},
   "outputs": [],
   "source": []
  }
 ],
 "metadata": {
  "kernelspec": {
   "display_name": "Python 3",
   "language": "python",
   "name": "python3"
  },
  "language_info": {
   "codemirror_mode": {
    "name": "ipython",
    "version": 3
   },
   "file_extension": ".py",
   "mimetype": "text/x-python",
   "name": "python",
   "nbconvert_exporter": "python",
   "pygments_lexer": "ipython3",
   "version": "3.7.0"
  }
 },
 "nbformat": 4,
 "nbformat_minor": 2
}
