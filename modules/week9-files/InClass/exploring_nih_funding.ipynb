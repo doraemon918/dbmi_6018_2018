{
 "cells": [
  {
   "cell_type": "markdown",
   "metadata": {},
   "source": [
    "# Exploring NIH Funding\n",
    "\n",
    "The NIH, as part of its open government initiative, provides information about extramural funding. [NIH Reporter](https://projectreporter.nih.gov/) is a web interface to the database containing information about all funded grants. The NIH also provides downloads of the grant information in either CSV or XML formats at [NIH ExPORTER](https://exporter.nih.gov/).\n",
    "\n",
    "We will look at the 2015 funding to explore a little more about Pandas and to think about how we would design a smaller database from this data.\n",
    "\n",
    "## File Formats\n",
    "\n",
    "The data are stored in a CSV file that is stored with a [zip file](https://en.wikipedia.org/wiki/Zip_(file_format)). A zip file is a compressed archive of files. \n",
    "\n",
    "* We will use Python's [urllib](https://docs.python.org/3/library/urllib.html) package to read the file over the web\n",
    "* We will use Python's [io.BytesIO](https://docs.python.org/3/library/io.html?highlight=io.bytesio#io.BytesIO) and the [zipfile](https://docs.python.org/3/library/zipfile.html) module to open the zip archive and extract individual files from it.\n",
    "* We will use [Pandas](http://pandas.pydata.org/pandas-docs/stable/generated/pandas.read_csv.html) to read the CSV file into a dataframe.\n",
    "\n"
   ]
  },
  {
   "cell_type": "code",
   "execution_count": null,
   "metadata": {},
   "outputs": [],
   "source": [
    "from zipfile import ZipFile\n",
    "import os\n",
    "import pandas as pd\n",
    "import matplotlib.pyplot as plt\n",
    "from urllib.request import urlopen\n",
    "from io import BytesIO"
   ]
  },
  {
   "cell_type": "markdown",
   "metadata": {},
   "source": [
    "#### I had to usse the 'latin-1' encoding to get the file to read properly"
   ]
  },
  {
   "cell_type": "code",
   "execution_count": null,
   "metadata": {},
   "outputs": [],
   "source": [
    "url=\"https://exporter.nih.gov/CSVs/final/RePORTER_PRJ_C_FY2015.zip\"\n",
    "\n",
    "with urlopen(url) as f0:\n",
    "    with ZipFile(BytesIO(f0.read())) as myzip:\n",
    "        nih_data = pd.read_csv(myzip.open(myzip.namelist()[0]), \n",
    "                               encoding='latin-1')\n",
    "nih_data.head()"
   ]
  },
  {
   "cell_type": "markdown",
   "metadata": {},
   "source": [
    "## What is the shape of ``nih_data``?"
   ]
  },
  {
   "cell_type": "code",
   "execution_count": null,
   "metadata": {},
   "outputs": [],
   "source": []
  },
  {
   "cell_type": "markdown",
   "metadata": {},
   "source": [
    "#### What does a particular row of our data look like?"
   ]
  },
  {
   "cell_type": "code",
   "execution_count": null,
   "metadata": {},
   "outputs": [],
   "source": []
  },
  {
   "cell_type": "markdown",
   "metadata": {},
   "source": [
    "#### What are the column names?"
   ]
  },
  {
   "cell_type": "code",
   "execution_count": null,
   "metadata": {},
   "outputs": [],
   "source": []
  },
  {
   "cell_type": "markdown",
   "metadata": {},
   "source": [
    "#### How might I explore what the different values for a column are (e.g. 'ACTIVITY')?\n",
    "* **Hint** Think uniqueness"
   ]
  },
  {
   "cell_type": "code",
   "execution_count": null,
   "metadata": {},
   "outputs": [],
   "source": [
    "nih_data[\"ACTIVITY\"].unique()"
   ]
  },
  {
   "cell_type": "code",
   "execution_count": null,
   "metadata": {},
   "outputs": [],
   "source": [
    "selected_cols= \\\n",
    "[\"PI_NAMEs\",\n",
    " \"ORG_NAME\",\n",
    " \"ORG_DEPT\",\n",
    " \"TOTAL_COST\",\n",
    " \"TOTAL_COST_SUB_PROJECT\",\n",
    " \"ACTIVITY\",\n",
    "\"PROJECT_TITLE\"]"
   ]
  },
  {
   "cell_type": "markdown",
   "metadata": {},
   "source": [
    "#### What Grants are more than $5,000,000 total cost?\n",
    "* What States did they go to?\n",
    "* Who are the principle investigators?"
   ]
  },
  {
   "cell_type": "code",
   "execution_count": null,
   "metadata": {},
   "outputs": [],
   "source": [
    "nih_data[???][['ORG_STATE',\"PI_NAMEs\",\"TOTAL_COST\"]]"
   ]
  },
  {
   "cell_type": "markdown",
   "metadata": {},
   "source": [
    "#### What grants of greater than $5,000,000 were awared to an institution in Utah?"
   ]
  },
  {
   "cell_type": "code",
   "execution_count": null,
   "metadata": {},
   "outputs": [],
   "source": []
  },
  {
   "cell_type": "markdown",
   "metadata": {},
   "source": [
    "### Filtering with Strings\n",
    "\n",
    "Filtering based on some numeric values is pretty straightforward. What about strings?\n",
    "\n",
    "Filtering with exact matches is pretty straightforward also"
   ]
  },
  {
   "cell_type": "code",
   "execution_count": null,
   "metadata": {},
   "outputs": [],
   "source": [
    "nih_data[nih_data[\"PI_NAMEs\"]=='PARKER, DENNIS L;'][selected_cols]"
   ]
  },
  {
   "cell_type": "markdown",
   "metadata": {},
   "source": [
    "### What if I don't know the name exactly?\n",
    "\n",
    "### Introducing [string matching](http://pandas.pydata.org/pandas-docs/stable/text.html#testing-for-strings-that-match-or-contain-a-pattern) in Pandas\n",
    "\n",
    "#### I'm interested in finding grants to my former chair Mike Becich, but I can't remember his middle initial/name (or know if he uses one or the other).\n",
    "#### Use the contains method"
   ]
  },
  {
   "cell_type": "code",
   "execution_count": null,
   "metadata": {},
   "outputs": [],
   "source": [
    "nih_data[nih_data[\"PI_NAMEs\"].str.contains('BECICH')][selected_cols]"
   ]
  },
  {
   "cell_type": "markdown",
   "metadata": {},
   "source": [
    "#### Look up the funding for the following researchers\n",
    "\n",
    "* Ron Kikinis\n",
    "* Carol Sweeney\n",
    "* Matt Samore\n",
    "\n",
    "#### Notice any inconsistencies in the data?"
   ]
  },
  {
   "cell_type": "code",
   "execution_count": null,
   "metadata": {},
   "outputs": [],
   "source": []
  },
  {
   "cell_type": "code",
   "execution_count": null,
   "metadata": {},
   "outputs": [],
   "source": [
    "nih_data[nih_data[\"PI_NAMEs\"].str.contains('JOHNSON, K')][selected_cols]"
   ]
  },
  {
   "cell_type": "code",
   "execution_count": null,
   "metadata": {},
   "outputs": [],
   "source": []
  },
  {
   "cell_type": "code",
   "execution_count": null,
   "metadata": {},
   "outputs": [],
   "source": []
  },
  {
   "cell_type": "markdown",
   "metadata": {},
   "source": [
    "#### Who were the NIH funded PIs at the University of Pittsburgh"
   ]
  },
  {
   "cell_type": "code",
   "execution_count": null,
   "metadata": {},
   "outputs": [],
   "source": [
    "pitt_data = nih_data[???][???].unique()\n",
    "pitt_data.sort()\n",
    "pitt_data"
   ]
  },
  {
   "cell_type": "markdown",
   "metadata": {},
   "source": [
    "#### If I don't know the NIH name of a Utah institution, how could I find it?"
   ]
  },
  {
   "cell_type": "code",
   "execution_count": null,
   "metadata": {},
   "outputs": [],
   "source": []
  },
  {
   "cell_type": "code",
   "execution_count": null,
   "metadata": {},
   "outputs": [],
   "source": [
    "nih_data[nih_data['ORG_NAME'].str.contains('UTAH')]"
   ]
  },
  {
   "cell_type": "markdown",
   "metadata": {},
   "source": [
    "### Our vectorized indexing chokes on missing values"
   ]
  },
  {
   "cell_type": "code",
   "execution_count": null,
   "metadata": {},
   "outputs": [],
   "source": [
    "nih_data[\"ORG_NAME\"][nih_data[\"ORG_NAME\"].str.contains(\"UTAH\")==True].unique()"
   ]
  },
  {
   "cell_type": "markdown",
   "metadata": {},
   "source": [
    "### What about searching by state?"
   ]
  },
  {
   "cell_type": "code",
   "execution_count": null,
   "metadata": {},
   "outputs": [],
   "source": [
    "nih_data[nih_data['ORG_STATE']=='UT'][\"ORG_NAME\"].unique()"
   ]
  },
  {
   "cell_type": "code",
   "execution_count": null,
   "metadata": {},
   "outputs": [],
   "source": [
    "nih_data[nih_data[\"ORG_NAME\"]==\"UNIVERSITY OF UTAH\"]"
   ]
  },
  {
   "cell_type": "markdown",
   "metadata": {},
   "source": [
    "#### What was the total funding per PI at the University of Utah?\n",
    "#### How many grants did each PI at the University of Utah have?\n",
    "\n",
    "* I couldn't think of how to do this directly in Pandas so I used a defaultdict"
   ]
  },
  {
   "cell_type": "code",
   "execution_count": null,
   "metadata": {},
   "outputs": [],
   "source": [
    "from collections import defaultdict\n",
    "import numpy as np\n",
    "ugrants = defaultdict(list)\n",
    "for col, row in nih_data[nih_data[\"ORG_NAME\"]=='UNIVERSITY OF UTAH'].iterrows():\n",
    "    ugrants[row[\"PI_NAMEs\"]].append(float(row['TOTAL_COST']))"
   ]
  },
  {
   "cell_type": "markdown",
   "metadata": {},
   "source": [
    "#### Who brought in the most money?"
   ]
  },
  {
   "cell_type": "code",
   "execution_count": null,
   "metadata": {},
   "outputs": [],
   "source": [
    "pd.DataFrame.from_dict({k:np.sum(v) for k,v in ugrants.items()}, \n",
    "                       orient='index').dropna().sort(columns=[0])"
   ]
  },
  {
   "cell_type": "markdown",
   "metadata": {},
   "source": [
    "#### Plot a histogram of total funding/investigator"
   ]
  },
  {
   "cell_type": "code",
   "execution_count": null,
   "metadata": {},
   "outputs": [],
   "source": [
    "fig1, ax1 = plt.subplots(1)\n",
    "pd.DataFrame.from_dict({k:np.sum(v) for k,v in ugrants.items()}, \n",
    "                       orient='index').hist(bins=20, ax=ax1)\n",
    "ax1.set_title(\"Grant Funding\")\n",
    "ax1.set_ylabel(\"# PIs\")\n",
    "ax1.set_xlabel(\"Total funding $\")\n",
    "fig1.savefig(\"./utah_funding_total.png\")"
   ]
  },
  {
   "cell_type": "code",
   "execution_count": null,
   "metadata": {},
   "outputs": [],
   "source": [
    "fig2, ax2 = plt.subplots(1)\n",
    "pd.DataFrame.from_dict({k:len(v) \n",
    "                        for k,v in ugrants.items()}, \n",
    "                       orient='index').hist(bins=20, ax=ax2)\n",
    "ax2.set_title(\"Number of Grants by PI\")\n",
    "ax2.set_ylabel(\"Count\")\n",
    "ax2.set_xlabel(\"Number of Grants\")\n",
    "fig2.savefig(\"./utah_numgrants.png\")"
   ]
  },
  {
   "cell_type": "markdown",
   "metadata": {},
   "source": [
    "## Database Design\n",
    "\n",
    "### Design a relational database that would contain the following information\n",
    "\n",
    "* PI name(s)\n",
    "* Organization name\n",
    "* Organization department (e.g. Radiology)\n",
    "* Total cost\n",
    "* Type of grant/contract\n",
    "* Project title\n",
    "\n",
    "What would the tables be? Data types?"
   ]
  },
  {
   "cell_type": "code",
   "execution_count": null,
   "metadata": {},
   "outputs": [],
   "source": []
  }
 ],
 "metadata": {
  "kernelspec": {
   "display_name": "Python [default]",
   "language": "python",
   "name": "python3"
  },
  "language_info": {
   "codemirror_mode": {
    "name": "ipython",
    "version": 3
   },
   "file_extension": ".py",
   "mimetype": "text/x-python",
   "name": "python",
   "nbconvert_exporter": "python",
   "pygments_lexer": "ipython3",
   "version": "3.6.4"
  }
 },
 "nbformat": 4,
 "nbformat_minor": 1
}
