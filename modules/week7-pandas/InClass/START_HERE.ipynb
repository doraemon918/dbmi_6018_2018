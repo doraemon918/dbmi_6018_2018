{
 "cells": [
  {
   "cell_type": "markdown",
   "metadata": {},
   "source": [
    "# Playing with Pandas\n",
    "\n",
    "### Some useful references\n",
    "\n",
    "* [Setting label sizes](https://stackoverflow.com/questions/3899980/how-to-change-the-font-size-on-a-matplotlib-plot)"
   ]
  },
  {
   "cell_type": "markdown",
   "metadata": {},
   "source": [
    "## In Class Activities\n",
    "\n",
    "* [Pandas Data Wrangling](./Pandas-DataWrangling.ipynb)\n",
    "* [Time in Python](./time_in_python.ipynb)\n",
    "* [Date and time in Python](./datetime_in_python.ipynb)\n",
    "* [Blood Pressure Analysis](./bp_analysis_1.ipynb)\n",
    "* [Pandas Visualization](./Pandas-Visualization.ipynb)\n",
    "* [Air Quality Data](./working_with_air_quality_data.ipynb)"
   ]
  },
  {
   "cell_type": "code",
   "execution_count": null,
   "metadata": {},
   "outputs": [],
   "source": []
  }
 ],
 "metadata": {
  "kernelspec": {
   "display_name": "Python [default]",
   "language": "python",
   "name": "python3"
  },
  "language_info": {
   "codemirror_mode": {
    "name": "ipython",
    "version": 3
   },
   "file_extension": ".py",
   "mimetype": "text/x-python",
   "name": "python",
   "nbconvert_exporter": "python",
   "pygments_lexer": "ipython3",
   "version": "3.6.4"
  }
 },
 "nbformat": 4,
 "nbformat_minor": 2
}
