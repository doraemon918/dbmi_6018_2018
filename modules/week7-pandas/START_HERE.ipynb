{
 "cells": [
  {
   "cell_type": "markdown",
   "metadata": {},
   "source": [
    "# [Pandas](http://pandas.pydata.org/)\n",
    "\n",
    "Pandas is a large data analysis framework that arose from the financial world. It thus has great support for time series, large data sets, and quick visualizations. Pandas is built on top of [numpy](https://docs.scipy.org/doc/numpy/user/quickstart.html) and is inspired by R data frames. \n",
    "\n",
    "Pandas can be complicated, but it is extremely useful tool.\n",
    "\n",
    "In my use of Pandas I make heavy use of [lambda expressions](https://docs.python.org/3/tutorial/controlflow.html#lambda-expressions), so these will be reviewed first.\n",
    "\n",
    "\n",
    "## Class Prep\n",
    "\n",
    "* [Lambda Functions](ClassPrep/lambda_functions.ipynb)\n",
    "* [Intro to Pandas part 1](ClassPrep/Pandas.ipynb)\n",
    "* [Intro to Pandas part 2](ClassPrep/Pandas-Part2.ipynb)\n",
    "* [Intro to Pandas part 3](ClassPrep/Pandas-Part3.ipynb)\n",
    "\n",
    "\n",
    "## Resources\n",
    "\n",
    "* [A cheat sheet](Resources/DataExUsingPandas.pdf)\n",
    "* [Another cheat sheet](Resources/PandasScipyNumpyCheatSheet.pdf)\n",
    "* [Lambda Functions at Dive into Python ](http://www.diveintopython.net/power_of_introspection/lambda_functions.html)\n",
    "\n",
    "**Note:** This is written in Python 2. To replicate the examples you will need to do some translation.\n"
   ]
  },
  {
   "cell_type": "code",
   "execution_count": null,
   "metadata": {},
   "outputs": [],
   "source": []
  }
 ],
 "metadata": {
  "kernelspec": {
   "display_name": "Python [default]",
   "language": "python",
   "name": "python3"
  },
  "language_info": {
   "codemirror_mode": {
    "name": "ipython",
    "version": 3
   },
   "file_extension": ".py",
   "mimetype": "text/x-python",
   "name": "python",
   "nbconvert_exporter": "python",
   "pygments_lexer": "ipython3",
   "version": "3.6.4"
  }
 },
 "nbformat": 4,
 "nbformat_minor": 1
}
