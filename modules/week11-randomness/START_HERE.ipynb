{
 "cells": [
  {
   "cell_type": "markdown",
   "metadata": {},
   "source": [
    "# Randomness\n",
    "\n",
    "The world that we experience is random, either because it is intrinsically non-causal or because the underlying deterministic mechanisms are too complex for us to fully understand, measure, and or predict. \n",
    "\n",
    "Consequently, we need tools to describe random processes (e.g. probability), quantify the uncertainty of observed data (e.g. statistics), or to simulate random processes. \n",
    "\n",
    "## Random Walks\n",
    "\n",
    "In chapter 14  of the text book, the author develops Python code for simulating a random walk. As simple as this model is, it has a wide application in finance, economics, biology, physics, and medicine---just about everywhere. \n",
    "\n",
    "[Here](http://rsif.royalsocietypublishing.org/content/royinterface/5/25/813.full.pdf) is a review article addressing random walk models in biology.\n",
    "\n",
    "Random walks serve an especially important role in medical imaging. Magnetic Resonance Imaging (MRI) is a volumetric imaging modality that creates images based on the interaction of (usually) water with strong magnetic fields. Researchers learned that they could make the signal inan MRI image sensitive to the random motion of water.\n",
    "\n",
    "This random motion of water is a random walk process.\n",
    "\n",
    "![random walk of water](./diffusion.png)"
   ]
  },
  {
   "cell_type": "markdown",
   "metadata": {},
   "source": [
    "## Diffusion and Imaging\n",
    "\n",
    "![Ed DiBella](https://securembm.uuhsc.utah.edu/zeus/public/mbm-media/faculty-profile?facultyPK=FM00004598)\n",
    "\n",
    "Dr. Ed DiBella in the Deparatment of Radiology and Imaging Sciences leads a team of researchers at the University of Utah who are developing MRI rechniques based on the diffusion of water. Pathological processes such as infarcts change how freely water moves. In our random walk model, in tissue with increased diffusion, the random walk of water results in a greater distance travelled by a water molecule.\n",
    "\n",
    "Here are some papers from Dr. DiBella's group\n",
    "\n",
    "* [Higher-Order Motion-Compensation for In Vivo Cardiac Diffusion Tensor Imaging in Rats](https://www.ncbi.nlm.nih.gov/pmc/articles/PMC4560625/)\n",
    "* [Assessment of white matter microstructure in stroke patients using NODDI](https://www.ncbi.nlm.nih.gov/pmc/articles/PMC4440535/)\n",
    "\n",
    "## Anisotropic Diffusion\n",
    "\n",
    "In addition to changes in the amount of diffusion, we can also detect/ exploit differences in diffusion by direction.\n",
    "\n",
    "![anisotropic diffusion](./anisotropic_diffusion.png)\n",
    "\n",
    "Anisotropic diffusion is pronounced in white matter of the brain and nerves, where the mylean sheath is hydrophobic, so water more freely diffuses along an axon compared to across an axon. This allows us to infer the \"wiring\" of the central nervous system, as illustrated in the figure below.\n",
    "\n",
    "![dti](dti.png)"
   ]
  },
  {
   "cell_type": "markdown",
   "metadata": {},
   "source": [
    "## Changing author's random walk model to a diffusion model\n",
    "\n",
    "### Key assumptions of author's drunken walk model\n",
    "\n",
    "1. There is no memory of the direction of the previous step.\n",
    "1. Drunks can occupy the same space.\n",
    "\n",
    "Diffusion is driven by the fact that objects cannot occupy the same space: we bump into each other or repel each other. Consequently diffusive processes always evolve such that the random walk of drunks (or water molecules) tend to spread drunks out. \n",
    "\n",
    "In the notebooks for this module I provide some changes to the author's model to describe a diffusion-like random walk."
   ]
  },
  {
   "cell_type": "markdown",
   "metadata": {},
   "source": [
    "## Class Prep\n",
    "\n",
    "* [Counting](./ClassPrep/counting.ipynb)\n",
    "* [Introduction to Probability](./ClassPrep/probability_part1.ipynb)\n",
    "\n",
    "## Readings\n",
    "\n",
    "* *Introduction to Computation and Programming Using Python: With Application to Understanding Data* chapters 14 and 15\n",
    "\n",
    "## In-class\n",
    "\n",
    "* [Random walks](./InClass/RandomWalks.ipynb)\n",
    "* [Diffusion simulation](./InClass/diffusion_v1.ipynb)\n",
    "* [Julia diffusion comparison](./InClass/julia_diffusion.ipynb)\n",
    "* [Stochastic programs](./InClass/stochastic_programs.ipynb)\n",
    "\n",
    "## [Python Style](https://blog.sideci.com/about-style-guide-of-python-and-linter-tool-pep8-pyflakes-flake8-haking-pyling-7fdbe163079d)\n",
    "\n",
    "* [pylint](https://www.pylint.org/)\n"
   ]
  },
  {
   "cell_type": "code",
   "execution_count": null,
   "metadata": {},
   "outputs": [],
   "source": []
  }
 ],
 "metadata": {
  "kernelspec": {
   "display_name": "Python 3",
   "language": "python",
   "name": "python3"
  },
  "language_info": {
   "codemirror_mode": {
    "name": "ipython",
    "version": 3
   },
   "file_extension": ".py",
   "mimetype": "text/x-python",
   "name": "python",
   "nbconvert_exporter": "python",
   "pygments_lexer": "ipython3",
   "version": "3.7.0"
  }
 },
 "nbformat": 4,
 "nbformat_minor": 2
}
