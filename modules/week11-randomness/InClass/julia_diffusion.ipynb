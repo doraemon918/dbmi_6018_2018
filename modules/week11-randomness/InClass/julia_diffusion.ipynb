{
 "cells": [
  {
   "cell_type": "code",
   "execution_count": null,
   "metadata": {},
   "outputs": [],
   "source": [
    "#Pkg.clone(\"git://github.com/kbarbary/TimeIt.jl.git\")\n",
    "Pkg.add(\"Plots\")\n",
    "#Pkg.add(\"PyPlot\")"
   ]
  },
  {
   "cell_type": "code",
   "execution_count": null,
   "metadata": {},
   "outputs": [],
   "source": [
    "using TimeIt"
   ]
  },
  {
   "cell_type": "code",
   "execution_count": null,
   "metadata": {},
   "outputs": [],
   "source": [
    "\n",
    "using Plots\n",
    "pyplot(size = (300,300), legend = false)"
   ]
  },
  {
   "cell_type": "markdown",
   "metadata": {},
   "source": [
    "### Julia is not an object oriented programming language\n",
    "\n",
    "Julia does not use objects; that is, data structures where data and methods (functions) are bundled together. Instead you define structures that bundle data together and then separately write functions to operate on those structures.\n",
    "\n",
    "### Modules\n",
    "\n",
    "In the cell below I define a module with structures used in the simulation."
   ]
  },
  {
   "cell_type": "code",
   "execution_count": null,
   "metadata": {},
   "outputs": [],
   "source": [
    "module Diffusion\n",
    "\n",
    "export AbstractPerson, Drunk, Field, loc\n",
    "\n",
    "abstract type AbstractPerson end\n",
    " \n",
    "struct Drunk <: AbstractPerson\n",
    "    name::String \n",
    "    moves::Tuple\n",
    "    \n",
    "end\n",
    " \n",
    "abstract type AbstractField end\n",
    "\n",
    "struct loc\n",
    "    x::Int\n",
    "    y::Int\n",
    "end\n",
    "\n",
    "struct Field <: AbstractField\n",
    "    drunks::Dict\n",
    "    locations::Set{loc}\n",
    "end    \n",
    "\n",
    "end\n",
    "using .Diffusion"
   ]
  },
  {
   "cell_type": "markdown",
   "metadata": {},
   "source": [
    "### Functions\n",
    "\n",
    "So here are the functions."
   ]
  },
  {
   "cell_type": "code",
   "execution_count": null,
   "metadata": {},
   "outputs": [],
   "source": [
    "function get_name(p::AbstractPerson)\n",
    "    return p.name\n",
    "end\n",
    "\n",
    "function add(a::loc, b::loc)\n",
    "    return loc(a.x+b.x, a.y+b.y)\n",
    "end\n",
    "\n",
    "function add(a::loc, b::Tuple)\n",
    "    return loc(a.x+b[1], a.y+b[2])\n",
    "end\n",
    "\n",
    "function getdrunks(n; moves =((1,0),(0,1),(-1,0),(0,-1),(0,0)))\n",
    "    return [Drunk(string(i), moves) for i in 1:n]\n",
    "end\n",
    "\n",
    "function create_field(n; dx=200, dy=200)\n",
    "    drunks = Dict([(d,loc(rand(-dx:dx), rand(-dy:dy))) for d in getdrunks(n)]);\n",
    "    return Field(drunks, Set{loc}(values(drunks)))\n",
    "end\n",
    "\n",
    "function move!(f::Field, d::Drunk)\n",
    "    step = sample(d.moves)\n",
    "    oldloc = f.drunks[d]\n",
    "    newloc = add(oldloc, step)\n",
    "    if ! in(newloc, f.locations)\n",
    "        delete!(f.locations, oldloc)\n",
    "        f.drunks[d] = newloc\n",
    "        push!(f.locations, newloc)\n",
    "    end\n",
    "    return nothing\n",
    "        \n",
    "end  \n",
    "\n",
    "function move_drunks!(f)\n",
    "    for d in keys(f.drunks)\n",
    "        move!(f, d)\n",
    "    end\n",
    "end\n",
    "\n",
    "\n",
    "function run_simulation(f, numsteps; dx=200, dy=200)\n",
    "    # f = create_field(numdrunks; dx=dx, dy=dy)\n",
    "    plot_field(f, color=\"blue\")\n",
    "    for n in 1:numsteps\n",
    "        move_drunks!(f)\n",
    "    end\n",
    "    plot_field(f, color=\"red\")\n",
    "    return f\n",
    "end  \n",
    "\n",
    "\n",
    "function sample(x)\n",
    "    return x[rand(1:length(x))]\n",
    "end\n",
    "   "
   ]
  },
  {
   "cell_type": "code",
   "execution_count": null,
   "metadata": {},
   "outputs": [],
   "source": [
    "function plot_field(f; xlim=(-800,800), ylim=(-800,800), color=\"red\")\n",
    "    _keys = keys(f.drunks)\n",
    "    xs = [f.drunks[k].x for k in _keys]\n",
    "    ys = [f.drunks[k].y for k in _keys]\n",
    "    scatter(xs, ys, color=\"red\", xlim=xlim, ylim=ylim)\n",
    "end"
   ]
  },
  {
   "cell_type": "code",
   "execution_count": null,
   "metadata": {},
   "outputs": [],
   "source": [
    "f = create_field(200);\n",
    "plot_field(f)"
   ]
  },
  {
   "cell_type": "code",
   "execution_count": null,
   "metadata": {},
   "outputs": [],
   "source": [
    "t = @timeit run_simulation(f, 100000);\n",
    "print(t)\n"
   ]
  },
  {
   "cell_type": "code",
   "execution_count": null,
   "metadata": {},
   "outputs": [],
   "source": [
    "plot_field(f)"
   ]
  },
  {
   "cell_type": "code",
   "execution_count": null,
   "metadata": {},
   "outputs": [],
   "source": []
  }
 ],
 "metadata": {
  "kernelspec": {
   "display_name": "Julia 0.6.2",
   "language": "julia",
   "name": "julia-0.6"
  },
  "language_info": {
   "file_extension": ".jl",
   "mimetype": "application/julia",
   "name": "julia",
   "version": "0.6.2"
  }
 },
 "nbformat": 4,
 "nbformat_minor": 2
}
