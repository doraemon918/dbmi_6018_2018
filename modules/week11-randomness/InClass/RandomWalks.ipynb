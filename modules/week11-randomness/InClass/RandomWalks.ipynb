{
 "cells": [
  {
   "cell_type": "markdown",
   "metadata": {},
   "source": [
    "# Random Walks"
   ]
  },
  {
   "cell_type": "code",
   "execution_count": null,
   "metadata": {},
   "outputs": [],
   "source": [
    "%matplotlib inline"
   ]
  },
  {
   "cell_type": "code",
   "execution_count": null,
   "metadata": {},
   "outputs": [],
   "source": [
    "import numpy as np\n",
    "import matplotlib.pyplot as plt\n",
    "from vis import styleIterator\n",
    "from space import Location, Field\n",
    "from drunks import UsualDrunk, ColdDrunk, EWDrunk"
   ]
  },
  {
   "cell_type": "code",
   "execution_count": null,
   "metadata": {},
   "outputs": [],
   "source": [
    "def traceWalk(drunkKinds, numSteps):\n",
    "    styleChoice = styleIterator((\"k+\", \"r^\", \"mo\"))\n",
    "    f = Field()\n",
    "    for dClass in drunkKinds:\n",
    "        d = dClass()\n",
    "        f.addDrunk(d, Location(0,0))\n",
    "        locs = []\n",
    "        for s in range(numSteps):\n",
    "            f.moveDrunk(d)\n",
    "            locs.append(f.getLoc(d))\n",
    "        xvals, yvals = [], []\n",
    "        for loc in locs:\n",
    "            xVals.append(loc.getX())\n",
    "            yvals.append(loc.getY())\n",
    "        curStyle = styleChoice.nextStyle()\n",
    "        plt.plot(xVals, yVals, curStyle, label=dClass.__name__)\n",
    "        plt.title(\"Spots visited on walk (%d steps)\"%numSteps)\n",
    "        plt.xlabel(\"Steps East/West of origin\")\n",
    "        plt.ylabel(\"Steps North/South of Origin\")\n",
    "        plt.legend(loc=\"best\")\n",
    "            "
   ]
  },
  {
   "cell_type": "code",
   "execution_count": null,
   "metadata": {},
   "outputs": [],
   "source": [
    "import numbers\n",
    "import math\n",
    "import random\n",
    "import seaborn as sns\n"
   ]
  },
  {
   "cell_type": "code",
   "execution_count": null,
   "metadata": {},
   "outputs": [],
   "source": [
    "def walk(f, d, numSteps):\n",
    "    start = f.getLoc(d)\n",
    "    for s in range(numSteps):\n",
    "        f.moveDrunk(d)\n",
    "    return start.distFrom(f.getLoc(d))\n",
    "\n",
    "def simWalks(numSteps, numTrials, dClass):\n",
    "    Homer = dClass()\n",
    "    origin = Location(0,0)\n",
    "    distances = []\n",
    "    for t in range(numTrials):\n",
    "        f = Field()\n",
    "        f.addDrunk(Homer, origin)\n",
    "        distances.append(round(walk(f, Homer, numSteps), 1))\n",
    "    return distances\n",
    "def drunkTest(walkLengths, numTrials, dClass):\n",
    "    for numSteps in walkLengths:\n",
    "        rslts = simWalks(numSteps, numTrials, dClass)\n",
    "        distances = [d[0] for d in rslts.values()]\n",
    "        paths = [ [(p.x, p.y) for p in v[1]] for v in rslts.values()]\n",
    "        print(dClass.__name__, 'random walk of', numSteps, 'steps')\n",
    "        print(\" Mean =\", round(sum(distances)/len(distances), 4))\n",
    "        print(\" Max =\", max(distances), \"Min =\", min(distances))\n",
    "        for p in paths:\n",
    "            x,y = zip(*p)\n",
    "            sns.scatterplot(x,y)\n",
    "    return paths"
   ]
  },
  {
   "cell_type": "code",
   "execution_count": null,
   "metadata": {},
   "outputs": [],
   "source": [
    "def simDrunk(numTrials, dClass, walkLengths):\n",
    "    meanDistances = []\n",
    "    for numSteps in walkLengths:\n",
    "        print(\"Starting simulation of %d steps\"%numSteps)\n",
    "        trials = simWalks(numSteps, numTrials, dClass)\n",
    "        mean = np.mean(trials)\n",
    "        meanDistances.append(mean)\n",
    "    return meanDistances"
   ]
  },
  {
   "cell_type": "code",
   "execution_count": null,
   "metadata": {
    "format": "row"
   },
   "outputs": [],
   "source": [
    "def simAll1(drunkKinds, walkLengths, numTrials):\n",
    "    styleChoice = styleIterator((\"m-\", \"r:\", \"k-\"))\n",
    "    for dClass in drunkKinds:\n",
    "        curStyle = styleChoice.nextStyle()\n",
    "        print(\"Starting simulation of %s\"%dClass.__name__)\n",
    "        means = simDrunk(numTrials, dClass, walkLengths)\n",
    "        plt.plot(walkLengths, means, curStyle, label=dClass.__name__)\n",
    "    plt.title(\"Mean distance from origin (%d trials)\"%numTrials)\n",
    "    plt.xlabel(\"Number of steps\")\n",
    "    plt.ylabel(\"Distance from origin\")\n",
    "    plt.legend(loc=\"best\")\n",
    "    plt.semilogx()\n",
    "    plt.semilogy()\n",
    "    \n",
    "\"\"\"simAll1((UsualDrunk, ColdDrunk, EWDrunk), \n",
    "        (10, 100, 1000, 10000, 100000),\n",
    "        100)\"\"\""
   ]
  },
  {
   "cell_type": "code",
   "execution_count": null,
   "metadata": {},
   "outputs": [],
   "source": [
    "def getFinalLocs(numSteps, numTrials, dClass):\n",
    "    locs = []\n",
    "    d = dClass()\n",
    "    for t in range(numTrials):\n",
    "        f = Field()\n",
    "        f.addDrunk(d, Location(0,0))\n",
    "        for s in range(numSteps):\n",
    "            f.moveDrunk(d)\n",
    "        locs.append(f.getLoc(d))\n",
    "    return locs"
   ]
  },
  {
   "cell_type": "code",
   "execution_count": null,
   "metadata": {},
   "outputs": [],
   "source": [
    "def plotLocs(drunkKinds, numSteps, numTrials):\n",
    "    styleChoice = styleIterator((\"k+\", \"r^\", \"mo\"))\n",
    "    for dClass in drunkKinds:\n",
    "        locs = getFinalLocs(numSteps, numTrials, dClass)\n",
    "        xVals, yVals = [], []\n",
    "        for loc in locs:\n",
    "            xVals.append(loc.x)\n",
    "            yVals.append(loc.y)\n",
    "        meanX = np.mean(xVals)\n",
    "        meanY = np.mean(yVals)\n",
    "        curStyle = styleChoice.nextStyle()\n",
    "        plt.plot(xVals, yVals, curStyle,\n",
    "                    label= \"%s mean loc. = (%0.4f, %0.4f)\"% \\\n",
    "                 (dClass.__name__, meanX, meanY))\n",
    "\n",
    "    plt.title(\"Location at end of Walks (%d steps)\"%(numSteps,))\n",
    "    plt.xlabel(\"Steps East/West of Origin\")\n",
    "    plt.ylabel(\"Steps North/South of Origin\")\n",
    "    plt.legend(loc=\"lower left\")\n",
    "                 \n",
    "                 \n",
    "                "
   ]
  },
  {
   "cell_type": "code",
   "execution_count": null,
   "metadata": {},
   "outputs": [],
   "source": [
    "plotLocs((UsualDrunk, ColdDrunk, EWDrunk), 100, 200)"
   ]
  },
  {
   "cell_type": "code",
   "execution_count": null,
   "metadata": {},
   "outputs": [],
   "source": [
    "class OddField(Field):\n",
    "    def __init__(self, numHoles, xRange, yRange):\n",
    "        super(OddField, self).__init__()\n",
    "        self.wormholes = {}\n",
    "        for w in range(numHoles):\n",
    "            x = random.randint(-xRange, xRange)\n",
    "            y = random.randint(-yRange, yRange)\n",
    "            newX = random.randint(-xRange, xRange)\n",
    "            newY = random.randint(-yRange, yRange)\n",
    "            newLoc = Location(newX, newY)\n",
    "            self.wormholes[(x,y)] = newLoc\n",
    "            \n",
    "    def moveDrunk(self, drunk):\n",
    "        super(OddField, self).moveDrunk(drunk)\n",
    "        l = self.getLoc(drunk)\n",
    "        \n",
    "        if (l.x, l.y) in self.wormholes:\n",
    "            self.placeDrunk(drunk, self.wormholes[(l.x,l.y)])\n",
    "        "
   ]
  },
  {
   "cell_type": "code",
   "execution_count": null,
   "metadata": {},
   "outputs": [],
   "source": [
    "def traceWalk2(drunkKinds, numSteps):\n",
    "    styleChoice = styleIterator((\"k+\", \"r^\", \"mo\"))\n",
    "    f = OddField(1000, 100, 200)\n",
    "    for dClass in drunkKinds:\n",
    "        d = dClass()\n",
    "        f.addDrunk(d, Location(0,0))\n",
    "        locs = []\n",
    "        for s in range(numSteps):\n",
    "            f.moveDrunk(d)\n",
    "            locs.append(f.getLoc(d))\n",
    "        xVals, yVals = [], []\n",
    "        for loc in locs:\n",
    "            xVals.append(loc.x)\n",
    "            yVals.append(loc.y)\n",
    "        curStyle = styleChoice.nextStyle()\n",
    "        plt.plot(xVals, yVals, curStyle, label=dClass.__name__)\n",
    "        plt.title(\"Spots visited on walk (%d steps)\"%numSteps)\n",
    "        plt.xlabel(\"Steps East/West of origin\")\n",
    "        plt.ylabel(\"Steps North/South of Origin\")\n",
    "        plt.legend(loc=\"best\")"
   ]
  },
  {
   "cell_type": "code",
   "execution_count": null,
   "metadata": {},
   "outputs": [],
   "source": [
    "traceWalk2((UsualDrunk, ColdDrunk, EWDrunk), 500)"
   ]
  },
  {
   "cell_type": "code",
   "execution_count": null,
   "metadata": {},
   "outputs": [],
   "source": []
  }
 ],
 "metadata": {
  "kernelspec": {
   "display_name": "Python 3",
   "language": "python",
   "name": "python3"
  },
  "language_info": {
   "codemirror_mode": {
    "name": "ipython",
    "version": 3
   },
   "file_extension": ".py",
   "mimetype": "text/x-python",
   "name": "python",
   "nbconvert_exporter": "python",
   "pygments_lexer": "ipython3",
   "version": "3.7.0"
  }
 },
 "nbformat": 4,
 "nbformat_minor": 2
}
