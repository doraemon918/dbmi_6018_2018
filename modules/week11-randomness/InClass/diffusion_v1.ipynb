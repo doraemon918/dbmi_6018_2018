{
 "cells": [
  {
   "cell_type": "markdown",
   "metadata": {},
   "source": [
    "# Modeling Diffusion"
   ]
  },
  {
   "cell_type": "code",
   "execution_count": null,
   "metadata": {},
   "outputs": [],
   "source": [
    "%matplotlib inline"
   ]
  },
  {
   "cell_type": "code",
   "execution_count": null,
   "metadata": {},
   "outputs": [],
   "source": [
    "import numpy as np\n",
    "import matplotlib.pyplot as plt\n",
    "from vis import styleIterator\n",
    "from space import Location, Field, OddField\n",
    "from drunks import UsualDrunk, ColdDrunk, EWDrunk\n",
    "import uuid"
   ]
  },
  {
   "cell_type": "markdown",
   "metadata": {},
   "source": [
    "The code up to this point, only keeps track of teh current location of the drunk. What if we were interested in the path a drunk takes? Then we need to have something like a list that we continually update. An immediate question we need to address is, \"Where should we keep the list? Should it be part of the `Field` class or one of the `Drunk` classes. "
   ]
  },
  {
   "cell_type": "code",
   "execution_count": null,
   "metadata": {},
   "outputs": [],
   "source": [
    "import numbers\n",
    "import math\n",
    "import random\n",
    "import seaborn as sns\n"
   ]
  },
  {
   "cell_type": "markdown",
   "metadata": {},
   "source": [
    "#### Create a `DiffusionField` class to approximate diffusion behavior"
   ]
  },
  {
   "cell_type": "code",
   "execution_count": null,
   "metadata": {},
   "outputs": [],
   "source": [
    "\n",
    "from space import Location, Field\n",
    "class DiffusionField(Field):\n",
    "    def __init__(self):\n",
    "        super(DiffusionField, self).__init__()\n",
    "        self.__occupied = set([])\n",
    "\n",
    "    def isOccupied(self, loc):\n",
    "        return loc in self.__occupied\n",
    "    \n",
    "    def moveDrunk(self, drunk):\n",
    "        if not self.hasDrunk(drunk):\n",
    "            raise ValueError(\"Drunk not in field\")\n",
    "        xDist, yDist = drunk.takeStep()\n",
    "        currentLocation = self.getLoc(drunk)\n",
    "        newLocation = currentLocation.move(xDist, yDist)\n",
    "\n",
    "        if newLocation in self.__occupied:\n",
    "            self.placeDrunk(drunk, currentLocation)\n",
    "        else:\n",
    "            self.__occupied.remove(currentLocation)\n",
    "            self.__occupied.add(newLocation)\n",
    "            #print(\"new location\")\n",
    "            self.placeDrunk(drunk, newLocation)\n",
    "            \n",
    "    def addDrunk(self, drunk, loc):\n",
    "        \n",
    "        if loc in self.__occupied:\n",
    "            raise ValueError(\"occupied space\")\n",
    "        if not isinstance(loc, Location):\n",
    "            raise TypeError(\"loc must be an instance of location\")\n",
    "        if self.hasDrunk(drunk):\n",
    "            raise ValueError(\"Duplicate drunk\")\n",
    "                            \n",
    "        else:\n",
    "            self.__occupied.add(loc)\n",
    "            self.placeDrunk(drunk, loc)            \n",
    "    \n",
    "        "
   ]
  },
  {
   "cell_type": "code",
   "execution_count": null,
   "metadata": {},
   "outputs": [],
   "source": [
    "def getLoc(f, xr, yr):\n",
    "    loc = Location(random.randint(-xr, xr), random.randint(-yr, yr))\n",
    "    if not f.isOccupied(loc):\n",
    "        return loc\n",
    "    else:\n",
    "        return get_loc(f, xr, yr)\n",
    "    \n",
    "def populatField(f, dtype, numDrunks, xRange, yRange):\n",
    "    for i in range(numDrunks):\n",
    "        d = dtype(name=str(uuid.uuid1().int))\n",
    "        f.addDrunk(d, getLoc(f, xRange, yRange))\n",
    "\n",
    "    return len(f.drunks())"
   ]
  },
  {
   "cell_type": "code",
   "execution_count": null,
   "metadata": {},
   "outputs": [],
   "source": [
    "def viewField(f, xrange, yrange):\n",
    "    xvals, yvals = [], []\n",
    "    for d in f.drunks():\n",
    "        loc = f.getLoc(d)\n",
    "        xvals.append(loc.x)\n",
    "        yvals.append(loc.y)\n",
    "\n",
    "    plt.plot(xvals, yvals, \"ro\")\n",
    "    plt.xlim(-xrange, xrange)\n",
    "    plt.ylim(-yrange, yrange)"
   ]
  },
  {
   "cell_type": "code",
   "execution_count": null,
   "metadata": {},
   "outputs": [],
   "source": [
    "\n",
    "def run_field(f, numSteps):\n",
    "    for i in range(numSteps):\n",
    "        for d in f.drunks():\n",
    "            f.moveDrunk(d)\n",
    "    return None"
   ]
  },
  {
   "cell_type": "markdown",
   "metadata": {},
   "source": [
    "## Run a diffusion process"
   ]
  },
  {
   "cell_type": "code",
   "execution_count": null,
   "metadata": {},
   "outputs": [],
   "source": [
    "f = DiffusionField()\n",
    "populatField(f, UsualDrunk, 200, 200, 200)\n",
    "viewField(f, 800, 800)\n",
    "\n",
    "tmp = %timeit -o -r 1 run_field(f, 100000)\n",
    "\n",
    "viewField(f, 800, 800)\n"
   ]
  },
  {
   "cell_type": "code",
   "execution_count": null,
   "metadata": {},
   "outputs": [],
   "source": [
    "\n",
    "times = {}\n",
    "for n in [1000, 10000, 100000]:\n",
    "    f = DiffusionField()\n",
    "    populatField(f, UsualDrunk, 100, 200, 200)\n",
    "    tmp = %timeit -o -r 1 run_field(f, n)\n",
    "    times[n] = tmp\n"
   ]
  },
  {
   "cell_type": "code",
   "execution_count": null,
   "metadata": {},
   "outputs": [],
   "source": [
    "pops = {}\n",
    "for n in [100, 200, 400]:\n",
    "    f = DiffusionField()\n",
    "    populatField(f, UsualDrunk, n, 200, 200)\n",
    "    tmp = %timeit -o -r 1 run_field(f, 1000)\n",
    "    pops[n] = tmp\n"
   ]
  },
  {
   "cell_type": "code",
   "execution_count": null,
   "metadata": {},
   "outputs": [],
   "source": [
    "viewField(f, 800, 800)"
   ]
  },
  {
   "cell_type": "code",
   "execution_count": null,
   "metadata": {},
   "outputs": [],
   "source": []
  }
 ],
 "metadata": {
  "kernelspec": {
   "display_name": "Python 3",
   "language": "python",
   "name": "python3"
  },
  "language_info": {
   "codemirror_mode": {
    "name": "ipython",
    "version": 3
   },
   "file_extension": ".py",
   "mimetype": "text/x-python",
   "name": "python",
   "nbconvert_exporter": "python",
   "pygments_lexer": "ipython3",
   "version": "3.7.0"
  }
 },
 "nbformat": 4,
 "nbformat_minor": 2
}
