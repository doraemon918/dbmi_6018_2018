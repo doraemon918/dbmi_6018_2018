{
 "cells": [
  {
   "cell_type": "markdown",
   "metadata": {},
   "source": [
    "# Stochastic Programs\n",
    "\n",
    ">*stochastic,* adj.  \n",
    "Etymology: < Greek στοχαστικός, < στοχάζεσθαι to aim at a mark, guess, < στόχος aim, guess....\n",
    "Randomly determined; that follows some random probability distribution or pattern, so that its behaviour may be analysed statistically but not predicted precisely; *stochastic process = random process* n. (Oxford English Dictionary (Accessed November 7, 2018)\n",
    "\n",
    "## What is a stochastic program?\n",
    "\n",
    ">stochastic programs, i.e., programs that exploit randomness. (Guttag, John V. *Introduction to Computation and Programming Using Python: With Application to Understanding Data*) "
   ]
  },
  {
   "cell_type": "code",
   "execution_count": null,
   "metadata": {},
   "outputs": [],
   "source": [
    "import seaborn as sns\n",
    "import random\n",
    "import numpy as np\n",
    "import numpy.random as ra\n",
    "import matplotlib.pyplot as plt\n",
    "import pandas as pd\n",
    "import warnings\n",
    "from collections import defaultdict\n",
    "import copy\n",
    "import collections.abc as abc\n",
    "warnings.filterwarnings('ignore')"
   ]
  },
  {
   "cell_type": "markdown",
   "metadata": {},
   "source": [
    "## Flipping a Coin\n",
    "\n",
    "Let's write some functions to simulate flipping a coin. Let's start off with the coin being either 0 or 1.\n",
    "\n",
    "* Heads=1, tails=0"
   ]
  },
  {
   "cell_type": "code",
   "execution_count": null,
   "metadata": {},
   "outputs": [],
   "source": [
    "def coin1(seed=None):\n",
    "    random.seed(seed)\n",
    "    return random.choice([0,1])\n",
    "def coin2(seed=None):\n",
    "    random.seed(seed)\n",
    "    if random.random() <= 0.5:\n",
    "        return 1\n",
    "    else:\n",
    "        return 0"
   ]
  },
  {
   "cell_type": "markdown",
   "metadata": {},
   "source": [
    "####  Write new versions `coin3` and `coin4` that return \"heads\" or \"tails\""
   ]
  },
  {
   "cell_type": "code",
   "execution_count": null,
   "metadata": {},
   "outputs": [],
   "source": [
    "    \n",
    "def coin3(seed=None):\n",
    "    random.seed(seed)\n",
    "    return random.choice([\"heads\",\"tails\"])    \n",
    "\n",
    "def coin4(seed=None):\n",
    "    random.seed(seed)\n",
    "    if random.random() <= 0.5:\n",
    "        return 1\n",
    "    else:\n",
    "        return 0"
   ]
  },
  {
   "cell_type": "markdown",
   "metadata": {},
   "source": [
    "#### Look at the results of lots of coin flips"
   ]
  },
  {
   "cell_type": "code",
   "execution_count": null,
   "metadata": {},
   "outputs": [],
   "source": [
    "ax = sns.distplot([coin2() for i in range(1000)], axlabel=\"results\", color=(0.8, 0.0, 0.2, 0.5), kde=False, norm_hist=False)\n",
    "ax.set_xticks([0,1])\n",
    "ax.set_xticklabels([\"tails\", \"heads\"])\n",
    "ax.set_ylabel(\"Counts\")"
   ]
  },
  {
   "cell_type": "markdown",
   "metadata": {},
   "source": [
    "#### If we run the above cell multiple times, we'll see the counts jumping around 500\n",
    "\n",
    "#### How can we quanity this?"
   ]
  },
  {
   "cell_type": "code",
   "execution_count": null,
   "metadata": {},
   "outputs": [],
   "source": [
    "def get_probabilities(values):\n",
    "    \"\"\"\n",
    "    Computes observed probabilities for distinct values in values\n",
    "    \n",
    "    Input:\n",
    "        values--a collection of observed values\n",
    "        \n",
    "    Output:\n",
    "        a dictionary with keys the observed values and values the observed probability for each\n",
    "        value\n",
    "    \"\"\"\n",
    "    obs = set(values)\n",
    "    n = len(values)\n",
    "    vs = np.array(values)\n",
    "    return {o:np.sum(np.where(vs==o,1,0))/n for o in obs}"
   ]
  },
  {
   "cell_type": "markdown",
   "metadata": {},
   "source": [
    "#### Quantify the Behavior"
   ]
  },
  {
   "cell_type": "code",
   "execution_count": null,
   "metadata": {},
   "outputs": [],
   "source": [
    "rslts = [get_probabilities([coin3() for i in range(50)]) for i in range(10)]"
   ]
  },
  {
   "cell_type": "markdown",
   "metadata": {},
   "source": [
    "#### Now we need to collate our heads and tails results"
   ]
  },
  {
   "cell_type": "code",
   "execution_count": null,
   "metadata": {},
   "outputs": [],
   "source": [
    "rslts2 = defaultdict(list)\n",
    "for r in rslts:\n",
    "    for k,v in r.items():\n",
    "        rslts2[k].append(v)"
   ]
  },
  {
   "cell_type": "code",
   "execution_count": null,
   "metadata": {},
   "outputs": [],
   "source": [
    "rslts3 = pd.DataFrame.from_dict(rslts2)\n",
    "rslts3.head()"
   ]
  },
  {
   "cell_type": "markdown",
   "metadata": {},
   "source": [
    "#### Are our probabilities valid?"
   ]
  },
  {
   "cell_type": "code",
   "execution_count": null,
   "metadata": {},
   "outputs": [],
   "source": [
    "rslts3[\"prob check\"] = rslts3[\"heads\"]+rslts3[\"tails\"]\n",
    "rslts3"
   ]
  },
  {
   "cell_type": "code",
   "execution_count": null,
   "metadata": {},
   "outputs": [],
   "source": [
    "rslts3[\"heads\"].mean(), rslts3[\"heads\"].std()"
   ]
  },
  {
   "cell_type": "markdown",
   "metadata": {},
   "source": [
    "#### Use the `describe` method to get summary statistics"
   ]
  },
  {
   "cell_type": "code",
   "execution_count": null,
   "metadata": {},
   "outputs": [],
   "source": [
    "a = rslts3.describe()\n",
    "a"
   ]
  },
  {
   "cell_type": "markdown",
   "metadata": {},
   "source": [
    "## Face card class\n",
    "\n",
    "### New concepts\n",
    "\n",
    "* `class` vs `instance` attributes\n",
    "* `@staticmethod`\n",
    "* `__hash__`"
   ]
  },
  {
   "cell_type": "code",
   "execution_count": null,
   "metadata": {},
   "outputs": [],
   "source": [
    "class card2(object):\n",
    "\n",
    "    __values = {2:2,3:3,4:4,5:5,6:6,7:7,8:8,9:9,10:10,\"jack\":11, \"queen\":12,\"king\":13, \"ace\":14}\n",
    "    __valid_suits = frozenset((\"clubs\", \"diamonds\", \"hearts\", \"spades\"))\n",
    "    __valid_values = frozenset(__values.keys()) \n",
    "    \n",
    "    \n",
    "    def __init__(self, value, suit, *args, **kwargs):\n",
    "        \n",
    "        if (value not in card2.__valid_values) or (suit not in card2.__valid_suits):\n",
    "            raise ValueError(\"invalid value or suit provided\")\n",
    "        self.__value = value\n",
    "        self.__suit = suit\n",
    "        \n",
    "    @staticmethod\n",
    "    def class_suits():\n",
    "        return card2.__valid_suits\n",
    "    @staticmethod\n",
    "    def class_values():\n",
    "        return card2.__valid_values\n",
    "    \n",
    "    @property\n",
    "    def value(self):\n",
    "        return self.__value\n",
    "    @property\n",
    "    def suit(self):\n",
    "        return self.__suit\n",
    "    def __str__(self):\n",
    "        return \"<%s, %s>\"%(self.value, self.suit)\n",
    "    def __repr__(self):\n",
    "        return self.__str__()\n",
    "    def __lt__(self, other):\n",
    "        return card2.__values[self.value] < card2.__values[other.value]\n",
    "    def __gt__(self, other):\n",
    "        return card2.__values[self.value] > card2.__values[other.value]\n",
    "    def __ge__(self, other):\n",
    "        return card2.__values[self.value] >= card2.__values[other.value] \n",
    "    def __le__(self, other):\n",
    "        return card2.__values[self.value] <= card2.__values[other.value]\n",
    "    def __eq__(self, other):\n",
    "        return card2.__values[self.value] == card2.__values[other.value]\n",
    "    def __add__(self, other):\n",
    "        return card2.__values[self.value] + card2.__values[other.value]\n",
    "    \n",
    "    def __hash__(self):\n",
    "        return hash(self.__repr__())"
   ]
  },
  {
   "cell_type": "code",
   "execution_count": null,
   "metadata": {},
   "outputs": [],
   "source": [
    "card2.class_suits()"
   ]
  },
  {
   "cell_type": "code",
   "execution_count": null,
   "metadata": {},
   "outputs": [],
   "source": [
    "deck = [card2(v,s) for v in card2.class_values() for s in card2.class_suits()]"
   ]
  },
  {
   "cell_type": "code",
   "execution_count": null,
   "metadata": {},
   "outputs": [],
   "source": [
    "print(deck)"
   ]
  },
  {
   "cell_type": "markdown",
   "metadata": {},
   "source": [
    "## Make a `CardDeck` class by subtyping a `list`\n",
    "\n",
    "#### See [this](https://stackoverflow.com/questions/9432719/python-how-can-i-inherit-from-the-built-in-list-type) discussion\n",
    "\n",
    "#### Concepts\n",
    "\n",
    "* `__new__`\n"
   ]
  },
  {
   "cell_type": "code",
   "execution_count": null,
   "metadata": {},
   "outputs": [],
   "source": [
    "class CardDeck(list):\n",
    "    def __new__(cls, *args, **kwargs):\n",
    "        if not all([isinstance(a,card2) for a in args[0]]):\n",
    "            raise TypeError(\"CardDeck can only contain cards\")\n",
    "        obj = super().__new__(cls, *args, **kwargs)\n",
    "        return obj\n",
    "    def __str__(self):\n",
    "        tmp = [str(v) for v in self]\n",
    "        tmp.sort()\n",
    "        width = max([len(t) for t in tmp]) + 5\n",
    "        num_per_row = int(85/width)\n",
    "        rslt = \"\"\n",
    "        for i in range(len(tmp)):\n",
    "            \n",
    "            rslt = rslt + tmp[i].ljust(width)\n",
    "            if (i+1) % num_per_row == 0:\n",
    "                rslt = rslt + \"\\n\"\n",
    "        return rslt\n",
    "    def __repr__(self):\n",
    "        tmp = [str(v) for v in self]\n",
    "        return \",\".join(tmp)\n",
    "\n",
    "        \n",
    "        "
   ]
  },
  {
   "cell_type": "code",
   "execution_count": null,
   "metadata": {},
   "outputs": [],
   "source": [
    "deck2 = CardDeck([card2(v,s) for v in card2.class_values() for s in card2.class_suits()])\n",
    "deck2.sort()"
   ]
  },
  {
   "cell_type": "code",
   "execution_count": null,
   "metadata": {},
   "outputs": [],
   "source": [
    "a = deck2[0]\n",
    "b = deck2[-1]"
   ]
  },
  {
   "cell_type": "code",
   "execution_count": null,
   "metadata": {},
   "outputs": [],
   "source": [
    "a < b\n"
   ]
  },
  {
   "cell_type": "code",
   "execution_count": null,
   "metadata": {},
   "outputs": [],
   "source": [
    "print(deck2)"
   ]
  },
  {
   "cell_type": "code",
   "execution_count": null,
   "metadata": {},
   "outputs": [],
   "source": [
    "random.shuffle(deck2)\n",
    "deck2"
   ]
  },
  {
   "cell_type": "code",
   "execution_count": null,
   "metadata": {},
   "outputs": [],
   "source": [
    "print(deck2)"
   ]
  },
  {
   "cell_type": "markdown",
   "metadata": {},
   "source": [
    "## `RandomEvent` Class\n",
    "\n",
    "#### New concepts\n",
    "\n",
    "* [Abstract Collections](https://docs.python.org/3/library/collections.abc.html)"
   ]
  },
  {
   "cell_type": "code",
   "execution_count": null,
   "metadata": {},
   "outputs": [],
   "source": [
    "class RandomEvent(object):\n",
    "    \n",
    "    @staticmethod\n",
    "    def __cum_prob(vals):\n",
    "        assert isinstance(vals, abc.Mapping)\n",
    "\n",
    "        items = list(vals.items())\n",
    "        cum_prob = [items.pop(0)]\n",
    "        for item in items:\n",
    "            cum_prob.append((item[0], item[1]+cum_prob[-1][1] ))\n",
    "            print(cum_prob)\n",
    "        return cum_prob\n",
    "    \n",
    "    def __init__(self, vals, name=\"\", seed=None):\n",
    "        \n",
    "        random.seed(seed)\n",
    "        \n",
    "        self.__name = name\n",
    "        if isinstance(vals, abc.Mapping):\n",
    "            \n",
    "            self.__select = self.__select_cum_prob\n",
    "            self.__cum_prob = RandomEvent.__cum_prob(vals)\n",
    "            self.__vals = list(vals.values())\n",
    "        elif isinstance(vals, abc.Container):\n",
    "            self.__select = self.__select_choice\n",
    "            self.__cum_prob = None\n",
    "            self.__vals = copy.copy(vals)\n",
    "        else:\n",
    "            raise TypeError(\"non container type provided\")\n",
    "        \n",
    "            \n",
    "    @property\n",
    "    def name(self):\n",
    "        return self.__name\n",
    "    \n",
    "    def event(self):\n",
    "        return self.__select()\n",
    "    def __select_choice(self):\n",
    "        return random.choice(self.__vals)\n",
    "    def __select_cum_prob(self):\n",
    "        \n",
    "        val = random.random()\n",
    "        for event, cp in self.__cum_prob:\n",
    "            if val < cp:\n",
    "                return event\n",
    "        raise Exception(\"Something went wrong\")\n",
    "        \n",
    "    def __str__(self):\n",
    "        rslt = \"\"\n",
    "        tmp = list(set(self.__vals))\n",
    "        tmp.sort()\n",
    "        tmp = [str(t) for t in tmp]\n",
    "        \n",
    "        width = max([len(t) for t in tmp])+5\n",
    "        num_per_row = int(85/width)\n",
    "        for i in range(len(tmp)):\n",
    "            rslt = rslt + tmp[i].ljust(width)\n",
    "            if (i+1)%num_per_row==0:\n",
    "                rslt = rslt + \"\\n\"\n",
    "            \n",
    "        return \"%s:\\n%s\"%(self.__name, rslt) "
   ]
  },
  {
   "cell_type": "code",
   "execution_count": null,
   "metadata": {},
   "outputs": [],
   "source": [
    "process = RandomEvent(vals=deck, name=\"playing cards\")"
   ]
  },
  {
   "cell_type": "code",
   "execution_count": null,
   "metadata": {},
   "outputs": [],
   "source": [
    "str(process.event())"
   ]
  },
  {
   "cell_type": "code",
   "execution_count": null,
   "metadata": {},
   "outputs": [],
   "source": [
    "print(process)"
   ]
  },
  {
   "cell_type": "markdown",
   "metadata": {},
   "source": [
    "#### Modify `__cum_prob` to raise a `ValueError` if the probabilities are in valid."
   ]
  },
  {
   "cell_type": "markdown",
   "metadata": {},
   "source": [
    "#### Add a `get_probabilities` method to the `RandomEvent` Class\n",
    "\n",
    "```Python\n",
    "def get_probabilities(values):\n",
    "    \"\"\"\n",
    "    Computes observed probabilities for distinct values in values\n",
    "    \n",
    "    Input:\n",
    "        values--a collection of observed values\n",
    "        \n",
    "    Output:\n",
    "        a dictionary with keys the observed values and values the observed probability for each\n",
    "        value\n",
    "    \"\"\"\n",
    "    obs = set(values)\n",
    "    n = len(values)\n",
    "    vs = np.array(values)\n",
    "    return {o:np.sum(np.where(vs==o,1,0))/n for o in obs}\n",
    "```"
   ]
  },
  {
   "cell_type": "markdown",
   "metadata": {},
   "source": [
    "#### Based on our earlier code write a method `characterize` \n",
    "\n",
    "* returns a Pandas DataFrame summarizing probabilities based on two arguments:\n",
    "    * `m` number of events per experiment\n",
    "    * `n` number of experiments\n",
    "    \n",
    "```Python\n",
    "rslts = [get_probabilities([coin3() for i in range(50)]) for i in range(10)]\n",
    "\n",
    "rslts2 = defaultdict(list)\n",
    "for r in rslts:\n",
    "    for k,v in r.items():\n",
    "        rslts2[k].append(v)\n",
    "        \n",
    "rslts3 = pd.DataFrame.from_dict(rslts2)\n",
    "\n",
    "a = rslts3.describe()\n",
    "```"
   ]
  },
  {
   "cell_type": "markdown",
   "metadata": {},
   "source": [
    "## Make a six-sided fair `die` RandomEvent"
   ]
  },
  {
   "cell_type": "code",
   "execution_count": null,
   "metadata": {},
   "outputs": [],
   "source": [
    "die = RandomEvent(name=\"die\", vals=[1,2,3,4,5,6])\n",
    "print(die)"
   ]
  },
  {
   "cell_type": "code",
   "execution_count": null,
   "metadata": {},
   "outputs": [],
   "source": [
    "sns.distplot([die.event() for i in range(1000)], kde=False)"
   ]
  },
  {
   "cell_type": "markdown",
   "metadata": {},
   "source": [
    "## Make a random die and estimate it's characteristics"
   ]
  },
  {
   "cell_type": "code",
   "execution_count": null,
   "metadata": {},
   "outputs": [],
   "source": [
    "die2 = RandomEvent(name=\"unknown die\", vals=ra.randint(1,20, size=10))\n",
    "sns.distplot([die2.event() for i in range(1000)], kde=False)"
   ]
  },
  {
   "cell_type": "markdown",
   "metadata": {},
   "source": [
    "## Modeling Population Age Distribution\n",
    "\n",
    "Below is a [plot](https://en.wikipedia.org/wiki/Demography_of_the_United_States) of the ages of people in the United States.\n",
    "\n",
    "<img src=\"https://upload.wikimedia.org/wikipedia/commons/thumb/0/03/USA_by_Sex_and_Age_2015-07-01.svg/700px-USA_by_Sex_and_Age_2015-07-01.svg.png\" alt=\"USA age distribution\"  width=\"300\">\n",
    "\n",
    "Last year a homework assignment required students to model a population of students. As a first approximation, we used the [geometric distribution](https://docs.scipy.org/doc/numpy-1.15.1/reference/generated/numpy.random.geometric.html#numpy.random.geometric) to estimate the starting age distribution for a population."
   ]
  },
  {
   "cell_type": "code",
   "execution_count": null,
   "metadata": {},
   "outputs": [],
   "source": [
    "def get_age(minage=17, maxage=100, p=0.06):\n",
    "    age = minage+ra.geometric(p,1)[0]\n",
    "    if age < maxage:\n",
    "        return age\n",
    "    else:\n",
    "        return get_age()\n",
    "ages = pd.Series([get_age() for i in range(100000)])\n",
    "print(ages.min(), ages.max())\n",
    "ages.hist(bins=100)"
   ]
  },
  {
   "cell_type": "markdown",
   "metadata": {},
   "source": [
    "### Play Around!\n",
    "\n",
    "Explore some of the other probability distributions defined in [numpy.random](https://docs.scipy.org/doc/numpy-1.15.1/reference/routines.random.html) to see if you can come up with a distribution you feel would be a better fit. Assume population ranges from 0 to 100."
   ]
  },
  {
   "cell_type": "code",
   "execution_count": null,
   "metadata": {},
   "outputs": [],
   "source": [
    "mu, sigma = -15, 0.6\n",
    "tmp = ra.lognormal(mu, sigma, 1000)\n",
    "tmp = tmp - tmp.min()\n",
    "sns.distplot(tmp*(100.0/np.max(tmp)))"
   ]
  },
  {
   "cell_type": "code",
   "execution_count": null,
   "metadata": {},
   "outputs": [],
   "source": [
    "alpha, beta = 1.5, 6\n",
    "tmp = ra.beta(alpha, beta, 1000)\n",
    "tmp = tmp - tmp.min()\n",
    "sns.distplot(tmp*(100.0/np.max(tmp)))"
   ]
  },
  {
   "cell_type": "code",
   "execution_count": null,
   "metadata": {},
   "outputs": [],
   "source": [
    "a=1.5\n",
    "tmp = ra.weibull(a, 1000)\n",
    "tmp = tmp - tmp.min()\n",
    "sns.distplot(tmp*(100.0/np.max(tmp)))"
   ]
  },
  {
   "cell_type": "code",
   "execution_count": null,
   "metadata": {},
   "outputs": [],
   "source": []
  },
  {
   "cell_type": "code",
   "execution_count": null,
   "metadata": {},
   "outputs": [],
   "source": []
  }
 ],
 "metadata": {
  "kernelspec": {
   "display_name": "Python 3",
   "language": "python",
   "name": "python3"
  },
  "language_info": {
   "codemirror_mode": {
    "name": "ipython",
    "version": 3
   },
   "file_extension": ".py",
   "mimetype": "text/x-python",
   "name": "python",
   "nbconvert_exporter": "python",
   "pygments_lexer": "ipython3",
   "version": "3.7.0"
  }
 },
 "nbformat": 4,
 "nbformat_minor": 2
}
