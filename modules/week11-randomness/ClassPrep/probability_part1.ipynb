{
 "cells": [
  {
   "cell_type": "markdown",
   "metadata": {},
   "source": [
    "# Introduction to Probability\n",
    "\n",
    "Materials for this notebook are drawn from *Mathematics for the Life Sciences* by Glenn Ledder (Springer) and Amit Saha's *Doing Math with Python* \n",
    "\n",
    ">I have yet to see a problem, however complicated, which, when you looked at it in the right way, did not become still more complicated. Poul Anderson, 1969. (Excerpt From: Glenn Ledder. *Mathematics for the Life Sciences.* iBooks.)\n",
    "\n"
   ]
  },
  {
   "cell_type": "markdown",
   "metadata": {},
   "source": [
    "## Types of Data\n",
    "\n",
    "Ledder divides data into the following types and subtypes\n",
    "\n",
    "1. **Arithmetic data: data consisting of numerical values that can be averaged in a meaningful way** \n",
    "1. **Non-Arithmetic data**\n",
    "    1. Categorical (nominal data) \"data consisting of descriptive terms\" (male/female, red/green/blue, left-handed/right-handed)\n",
    "    1. Ordinal data: \"numerical data in which the ordering of categories is significant, but the distance between the category descriptions is ambiguous.\" ([Likert scale](https://en.wikipedia.org/wiki/Likert_scale))\n"
   ]
  },
  {
   "cell_type": "markdown",
   "metadata": {},
   "source": [
    "## Concepts of Probability\n",
    "\n",
    "## Definitions\n",
    "\n",
    "* **Experiment**\n",
    "> The experiment is simply the test we want to perform. We perform the test because we’re interested in the probability of each possible outcome. Rolling a die, flipping a coin, and pulling a card from a deck of cards are all examples of experiments. A single run of an experiment is referred to as a trial.” (Excerpt From: Amit Saha. “Doing Math with Python.” iBooks.)\n",
    "* **Sample Space** $(S \\text{ or } \\Omega)$: \n",
    ">**All possible outcomes** of an experiment form a set known as the sample space, which we’ll usually call S in our formulas. For example, when a six-sided die is rolled once, the sample space is {1, 2, 3, 4, 5, 6}. (Excerpt From: Amit Saha. “Doing Math with Python.” iBooks.) \n",
    "\n",
    "    * It is important to remember that the sample space must contain **all** possible outcomes. Frequenlty we make an all-encompasing *other*.\n",
    "* **Event** $(E)$:\n",
    ">An event is a set of outcomes that we want to calculate the probability of and that form a subset of the sample space. (Excerpt From: Amit Saha. *Doing Math with Python.* iBooks.) \n",
    "\n",
    "### Range rule:\n",
    "\n",
    "For any event $A$ and sample space $\\Omega$,\n",
    "$$ 0 \\le P[A]\\le P[\\Omega] = 1$$.\n",
    "\n",
    "#### Translation:\n",
    "\n",
    "Reading right to left: Since the sample space includes all possible events (remember **other**), the probability of the sample space is occurring is 1. Since an event is a subset of the sample space, the probability of the event occuring is less than or equal to the probability of the sample space (the event can include the entire sample space). But since the event need not be the entire sample space the event itself may or may not occur (probability zero).\n",
    "\n",
    "### Sum rule:\n",
    "\n",
    "For any event $A = \\{x_1,x_2,\\cdots,x_J\\}$,\n",
    "$$ P[A] = \\sum_{x_j\\in A}P[x_j]\\equiv P[x_1]+P[x_2]+\\cdots+P[x_j]$$\n",
    "\n",
    "#### Translation:\n",
    "The probability of something from a set of things happening is the sum of the probabiliteis of each thing occuring. \n",
    "\n",
    "### Complement rules:\n",
    "\n",
    "For any events $A$ and $B$, from either the same or different experiments,\n",
    "\n",
    "$$\n",
    "P[A]+P[A^c]=1\n",
    "$$\n",
    "#### Translation\n",
    "\n",
    "The probability of either something happening ($A$) or something not happening ($A^c$) is one. That is, something either happens or it doesn't.\n",
    "\n",
    "$$\n",
    "P[A\\cap B]+P[A^c\\cap B] = P[B]\n",
    "$$\n",
    "\n",
    "#### Translation\n",
    "The probability of either $A$ AND $B$ happening OR $B$ happening AND $A$ not happening is the probability of $B$ happening. \n"
   ]
  },
  {
   "cell_type": "code",
   "execution_count": null,
   "metadata": {},
   "outputs": [],
   "source": [
    "!pip install matplotlib_venn"
   ]
  },
  {
   "cell_type": "code",
   "execution_count": null,
   "metadata": {},
   "outputs": [],
   "source": [
    "from sympy import FiniteSet\n",
    "from matplotlib_venn import venn2\n",
    "import math\n",
    "import random"
   ]
  },
  {
   "cell_type": "markdown",
   "metadata": {},
   "source": [
    "### Uniform Distributions\n",
    "\n",
    "In a uniform distribution every event value in the sample space is equally likely to occur. Classic examples of this would be the number rolled with a fair die or heads or tails on the flip of a fair coin. With a uniform distribution computing probabilities is just a straight forward matter of counting the number of values constituting our event and dividing by the total number of values in the sample space.\n",
    ".\n",
    "\n",
    "$$P(E) = \\frac{n(E)}{n(S)}$$,\n",
    "\n",
    "where $n$ is the cardinality (the number of elements) of the set.\n",
    "\n",
    "#### Example: Probability of rolling a 2 on a six-sided die\n",
    "\n",
    "The event consists of one value ($2$). The sample space consists of all the possible die values.\n",
    "\n",
    "$$E = \\{2\\}$$\n",
    "\n",
    "$$S = \\{1, 2, 3, 4, 5, 6\\}$$\n",
    "\n",
    "$$P(\\{2\\}) = \\frac{n(\\{2\\})}{n(\\{1, 2, 3, 4, 5, 6\\})} = \\frac{1}{6}$$"
   ]
  },
  {
   "cell_type": "markdown",
   "metadata": {},
   "source": [
    "### Example:\n",
    "\n",
    "What is the probability that a natural number less than or equal to 20 is prime?"
   ]
  },
  {
   "cell_type": "code",
   "execution_count": null,
   "metadata": {},
   "outputs": [],
   "source": [
    "def probability(space, event):\n",
    "    return len(event)/len(space)"
   ]
  },
  {
   "cell_type": "code",
   "execution_count": null,
   "metadata": {},
   "outputs": [],
   "source": [
    "\n",
    "def isprime(n):\n",
    "    if n < 2:\n",
    "        return False\n",
    "    elif n == 2:\n",
    "        return True\n",
    "    elif n % 2 == 0:\n",
    "        return False\n",
    "    else:\n",
    "        for i in range(3, int(math.sqrt(n))+1, 2):\n",
    "            if n % i == 0:\n",
    "                return False\n",
    "        else:\n",
    "            return True"
   ]
  },
  {
   "cell_type": "code",
   "execution_count": null,
   "metadata": {},
   "outputs": [],
   "source": [
    "FiniteSet(*[i for i in range(20) if isprime(i)])"
   ]
  },
  {
   "cell_type": "code",
   "execution_count": null,
   "metadata": {},
   "outputs": [],
   "source": [
    "probability(range(1,21), [i for i in range(1, 21) if isprime(i)])"
   ]
  },
  {
   "cell_type": "code",
   "execution_count": null,
   "metadata": {},
   "outputs": [],
   "source": [
    "probability(FiniteSet(*range(1,21)), FiniteSet(*[i for i in range(1, 21) if isprime(i)]))"
   ]
  },
  {
   "cell_type": "code",
   "execution_count": null,
   "metadata": {},
   "outputs": [],
   "source": [
    "FiniteSet(*range(1,21))"
   ]
  },
  {
   "cell_type": "markdown",
   "metadata": {},
   "source": [
    "### Probability of A or B\n",
    "\n",
    "$$P(A) \\text{ OR } P(B) = \\ P(A \\cup B) = \\frac{n(A \\cup B)}{n(S)}$$\n",
    "\n",
    "#### Example: Rolling a Prime or an Odd Number on a 20-sided die\n",
    "\n"
   ]
  },
  {
   "cell_type": "code",
   "execution_count": null,
   "metadata": {},
   "outputs": [],
   "source": [
    "A = FiniteSet(*range(1,21,2)) # This is the event of odd numbers\n",
    "B = FiniteSet(*[i for i in range(20) if isprime(i)]) # This is the event of a prime number\n",
    "S = FiniteSet(*range(1,21)) # This is our sample space\n"
   ]
  },
  {
   "cell_type": "code",
   "execution_count": null,
   "metadata": {},
   "outputs": [],
   "source": [
    "probability(S, A.union(B))"
   ]
  },
  {
   "cell_type": "markdown",
   "metadata": {},
   "source": [
    "#### Question: Why is it important to compute $A\\cup B$ rather than just adding the cardinality (number of elements) of $A$ with the cardinality  of $B$?"
   ]
  },
  {
   "cell_type": "markdown",
   "metadata": {},
   "source": [
    "### Probability of A and B\n",
    "\n",
    "$$P(A) \\text{ AND } P(B) = \\ P(A \\cap B) = \\frac{n(A \\cap B)}{n(S)}$$\n",
    "#### Rolling an odd prime number on a 20-sided die"
   ]
  },
  {
   "cell_type": "code",
   "execution_count": null,
   "metadata": {},
   "outputs": [],
   "source": [
    "probability(S, A.intersection(B))"
   ]
  },
  {
   "cell_type": "code",
   "execution_count": null,
   "metadata": {},
   "outputs": [],
   "source": [
    "def flip_unfair_coin(t=0.75):\n",
    "    if random.random() < t:\n",
    "        return 1\n",
    "    else:\n",
    "        return 0\n",
    "    "
   ]
  },
  {
   "cell_type": "markdown",
   "metadata": {},
   "source": [
    "## [Probability Distribution Function](https://en.wikipedia.org/wiki/Probability_density_function) (aka probability density function) or [probability mass function](https://en.wikipedia.org/wiki/Probability_mass_function) for discrete variables \n",
    "\n",
    "**Probability distribution function:** a function $f(x)$ that represents the probability that a given experiment has outcome $x$ (in other words, $f(x) \\equiv P [X = x]$); a probability distribution function must satisfy the range and sum rules,\n",
    "$0 \\le f(x)\\le 1, \\sum f(x)=1$. (*Mathematics for the Life Sciences,* p.  168)\n",
    "\n",
    "### Example: Normal Distribution\n",
    "\n",
    "![Normal probability density functions](https://upload.wikimedia.org/wikipedia/commons/thumb/7/74/Normal_Distribution_PDF.svg/320px-Normal_Distribution_PDF.svg.png)\n",
    "\n",
    "## [Cumulative Distribution Function](https://en.wikipedia.org/wiki/Cumulative_distribution_function)\n",
    "\n",
    "Cumulative distribution function (given a probability distribution function $f$): the function $F$ defined by\n",
    "\n",
    "$$F(x) = P[X \\le x] = \\sum_{y\\le x} f(y)$$\n",
    "\n",
    "( (*Mathematics for the Life Sciences,* p. 168))\n",
    "\n",
    "![Cumulative Distribution for Normal distributions](https://upload.wikimedia.org/wikipedia/commons/thumb/c/ca/Normal_Distribution_CDF.svg/320px-Normal_Distribution_CDF.svg.png)"
   ]
  },
  {
   "cell_type": "markdown",
   "metadata": {},
   "source": [
    "## Expected Value\n",
    "\n",
    "The **expected value** of a random variable is the most likely value you would expect over a large number of experiments. It is computed as \n",
    "\n",
    "$$E[x] = \\sum_{i=0}^{N-1} p(x_i)x_i$$.\n",
    "\n",
    "That is, the sum of the values multiplied by the probability of the value occuring.\n",
    "\n",
    "An alternative way of writing this is as follows:\n",
    "\n",
    "$$E[x] = \\sum_{x\\in \\Omega} p(x)x$$\n",
    "\n",
    "### Example: Expected Value of a roll of a fair six-sided die ($d(x)$)\n",
    "\n",
    "$$E[d(x)] = 1\\times\\frac{1}{6}+2\\times\\frac{1}{6}+3\\times\\frac{1}{6}+4\\times\\frac{1}{6}+5\\times\\frac{1}{6}+6\\times\\frac{1}{6}$$"
   ]
  },
  {
   "cell_type": "code",
   "execution_count": null,
   "metadata": {},
   "outputs": [],
   "source": [
    "sum(range(1,7))/6"
   ]
  },
  {
   "cell_type": "markdown",
   "metadata": {},
   "source": [
    "### Example: Expected value of our unfair coin (t=0.75) (assuming heads is 0 and tails is 1)\n",
    "\n",
    "$$E[c(x,t=0.75)] = 0\\times\\frac{1}{4} + 1\\times\\frac{3}{4} = \\frac{3}{4}$$"
   ]
  },
  {
   "cell_type": "markdown",
   "metadata": {},
   "source": [
    "## Mean\n",
    "\n",
    "The mean of a variable ($x$) denoted by $\\bar{x}$ or $\\mu$ is simply the expected value of the variable ($E[x]$).\n",
    "\n",
    "## Variance\n",
    "\n",
    "The variance ($\\sigma^2$) of a variable $x$ is the expected value of the square of the difference between the variable and the mean. With some algebra, this can be expressed in a couple of different ways:\n",
    "\n",
    "$$\\sigma(x)^2 = E[(x-\\bar{x})^2]= E[x^2] - (E[x])^2 = E[x^2]-\\bar{x}^2$$"
   ]
  },
  {
   "cell_type": "markdown",
   "metadata": {},
   "source": [
    "### Example:\n",
    "\n",
    "Approximately four million women gave birth in the United States in the year 2000, with single births, twins, and triplets occurring 98.51%, 1.38%, and 0.11% of the time, respectively, with a negligible probability of more than three births. Determine the mean and standard deviation for this probability distribution.\n",
    "(taken from *Mathematics for the Life Sciences,* p.  171)\n",
    "\n"
   ]
  },
  {
   "cell_type": "code",
   "execution_count": null,
   "metadata": {},
   "outputs": [],
   "source": [
    "mu = 0.9851*1+0.0138*2+0.0011*3\n",
    "print(\"Mean births per pregnancy\",mu)"
   ]
  },
  {
   "cell_type": "code",
   "execution_count": null,
   "metadata": {},
   "outputs": [],
   "source": [
    "print(\"SD of births per pregnancy\",\n",
    "      math.sqrt(0.9851*(1-mu)**2+0.0138*(2-mu)**2+0.0011*(3-mu)**2))\n",
    "print(\"SD of births per pregnancy (alternative calculation)\",\n",
    "       math.sqrt(0.9851*(1)**2+0.0138*(2)**2+0.0011*(3)**2-mu*mu))"
   ]
  },
  {
   "cell_type": "code",
   "execution_count": null,
   "metadata": {},
   "outputs": [],
   "source": []
  },
  {
   "cell_type": "markdown",
   "metadata": {},
   "source": [
    "A certain species of organism has an 80% chance of surviving each of the first 2 years of life, a 40% chance of surviving a third year, and a 0% chance of surviving a fourth year. Let X be the age at death.\n",
    "\n",
    "1. Determine the probability distribution function and the cumulative distribution function.\n",
    "2. Determine the mean, variance, and standard deviation.\n",
    "3. Plot a histogram of the probability distribution function.\n",
    "\n",
    "(Taken from *Mathematics for the Life Sciences,* p.  172)"
   ]
  },
  {
   "cell_type": "code",
   "execution_count": null,
   "metadata": {},
   "outputs": [],
   "source": []
  }
 ],
 "metadata": {
  "anaconda-cloud": {},
  "kernelspec": {
   "display_name": "Python [default]",
   "language": "python",
   "name": "python3"
  },
  "language_info": {
   "codemirror_mode": {
    "name": "ipython",
    "version": 3
   },
   "file_extension": ".py",
   "mimetype": "text/x-python",
   "name": "python",
   "nbconvert_exporter": "python",
   "pygments_lexer": "ipython3",
   "version": "3.6.4"
  }
 },
 "nbformat": 4,
 "nbformat_minor": 1
}
