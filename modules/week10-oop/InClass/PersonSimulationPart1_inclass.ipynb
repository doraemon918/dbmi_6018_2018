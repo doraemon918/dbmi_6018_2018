{
 "cells": [
  {
   "cell_type": "code",
   "execution_count": 1,
   "metadata": {},
   "outputs": [],
   "source": [
    "import pandas as pd\n",
    "import gzip\n",
    "import pickle\n",
    "import dateutil\n",
    "import datetime\n",
    "from dateutil.relativedelta import *\n",
    "import numpy.random as ra\n",
    "import math\n",
    "import random\n",
    "import seaborn as sns\n",
    "import numpy as np\n",
    "import numbers\n",
    "import uuid\n",
    "import person\n",
    "import quilt"
   ]
  },
  {
   "cell_type": "code",
   "execution_count": 15,
   "metadata": {},
   "outputs": [],
   "source": [
    "import importlib"
   ]
  },
  {
   "cell_type": "code",
   "execution_count": 23,
   "metadata": {},
   "outputs": [
    {
     "data": {
      "text/plain": [
       "<module 'person' from '/home/u0069295/dbmi_6018_2018/modules/week10-oop/InClass/person.py'>"
      ]
     },
     "execution_count": 23,
     "metadata": {},
     "output_type": "execute_result"
    }
   ],
   "source": [
    "importlib.reload(person)"
   ]
  },
  {
   "cell_type": "markdown",
   "metadata": {},
   "source": [
    "# Selecting a surname for a person\n",
    "\n",
    "I have installed on `quiltdata.com` a file \"2010_surnames.csv\" that contains surname information from the 2010 US census. We will be using this file to generate names for persons we simulation with our Person class. The head of the file looks like this:\n",
    "\n",
    "<table border=\"1\" class=\"dataframe\">\n",
    "  <thead>\n",
    "    <tr style=\"text-align: right;\">\n",
    "      <th></th>\n",
    "      <th>name</th>\n",
    "      <th>rank</th>\n",
    "      <th>count</th>\n",
    "      <th>prop100k</th>\n",
    "      <th>cum_prop100k</th>\n",
    "      <th>pctwhite</th>\n",
    "      <th>pctblack</th>\n",
    "      <th>pctapi</th>\n",
    "      <th>pctaian</th>\n",
    "      <th>pct2prace</th>\n",
    "      <th>pcthispanic</th>\n",
    "    </tr>\n",
    "  </thead>\n",
    "  <tbody>\n",
    "    <tr>\n",
    "      <th>0</th>\n",
    "      <td>SMITH</td>\n",
    "      <td>1</td>\n",
    "      <td>2376206</td>\n",
    "      <td>880.85</td>\n",
    "      <td>880.85</td>\n",
    "      <td>73.35</td>\n",
    "      <td>22.22</td>\n",
    "      <td>0.40</td>\n",
    "      <td>0.85</td>\n",
    "      <td>1.63</td>\n",
    "      <td>1.56</td>\n",
    "    </tr>\n",
    "    <tr>\n",
    "      <th>1</th>\n",
    "      <td>JOHNSON</td>\n",
    "      <td>2</td>\n",
    "      <td>1857160</td>\n",
    "      <td>688.44</td>\n",
    "      <td>1569.30</td>\n",
    "      <td>61.55</td>\n",
    "      <td>33.80</td>\n",
    "      <td>0.42</td>\n",
    "      <td>0.91</td>\n",
    "      <td>1.82</td>\n",
    "      <td>1.50</td>\n",
    "    </tr>\n",
    "    <tr>\n",
    "      <th>2</th>\n",
    "      <td>WILLIAMS</td>\n",
    "      <td>3</td>\n",
    "      <td>1534042</td>\n",
    "      <td>568.66</td>\n",
    "      <td>2137.96</td>\n",
    "      <td>48.52</td>\n",
    "      <td>46.72</td>\n",
    "      <td>0.37</td>\n",
    "      <td>0.78</td>\n",
    "      <td>2.01</td>\n",
    "      <td>1.60</td>\n",
    "    </tr>\n",
    "    <tr>\n",
    "      <th>3</th>\n",
    "      <td>BROWN</td>\n",
    "      <td>4</td>\n",
    "      <td>1380145</td>\n",
    "      <td>511.62</td>\n",
    "      <td>2649.58</td>\n",
    "      <td>60.71</td>\n",
    "      <td>34.54</td>\n",
    "      <td>0.41</td>\n",
    "      <td>0.83</td>\n",
    "      <td>1.86</td>\n",
    "      <td>1.64</td>\n",
    "    </tr>\n",
    "    <tr>\n",
    "      <th>4</th>\n",
    "      <td>JONES</td>\n",
    "      <td>5</td>\n",
    "      <td>1362755</td>\n",
    "      <td>505.17</td>\n",
    "      <td>3154.75</td>\n",
    "      <td>57.69</td>\n",
    "      <td>37.73</td>\n",
    "      <td>0.35</td>\n",
    "      <td>0.94</td>\n",
    "      <td>1.85</td>\n",
    "      <td>1.44</td>\n",
    "    </tr>\n",
    "  </tbody>\n",
    "</table>\n",
    "\n",
    "Use Pandas to read this file into a DataFrame named `surnames` that only has columns `count` and `name`."
   ]
  },
  {
   "cell_type": "code",
   "execution_count": 2,
   "metadata": {},
   "outputs": [
    {
     "name": "stdout",
     "output_type": "stream",
     "text": [
      "Downloading package metadata...\n",
      "u0069295/n2010_surnames already installed.\n",
      "Overwrite? (y/n) y\n",
      "Fragments already downloaded\n"
     ]
    }
   ],
   "source": [
    "quilt.install(\"u0069295/n2010_surnames\")"
   ]
  },
  {
   "cell_type": "code",
   "execution_count": 3,
   "metadata": {},
   "outputs": [],
   "source": [
    "from quilt.data.u0069295 import n2010_surnames as data"
   ]
  },
  {
   "cell_type": "markdown",
   "metadata": {},
   "source": [
    "### Accessing our data\n",
    "\n",
    "Calling `data()` will return a Pandas DataFrame"
   ]
  },
  {
   "cell_type": "code",
   "execution_count": 4,
   "metadata": {},
   "outputs": [],
   "source": [
    "surnames = data()"
   ]
  },
  {
   "cell_type": "code",
   "execution_count": 5,
   "metadata": {},
   "outputs": [
    {
     "data": {
      "text/plain": [
       "pandas.core.frame.DataFrame"
      ]
     },
     "execution_count": 5,
     "metadata": {},
     "output_type": "execute_result"
    }
   ],
   "source": [
    "type(surnames)"
   ]
  },
  {
   "cell_type": "code",
   "execution_count": 8,
   "metadata": {},
   "outputs": [
    {
     "data": {
      "text/html": [
       "<div>\n",
       "<style scoped>\n",
       "    .dataframe tbody tr th:only-of-type {\n",
       "        vertical-align: middle;\n",
       "    }\n",
       "\n",
       "    .dataframe tbody tr th {\n",
       "        vertical-align: top;\n",
       "    }\n",
       "\n",
       "    .dataframe thead th {\n",
       "        text-align: right;\n",
       "    }\n",
       "</style>\n",
       "<table border=\"1\" class=\"dataframe\">\n",
       "  <thead>\n",
       "    <tr style=\"text-align: right;\">\n",
       "      <th></th>\n",
       "      <th>name</th>\n",
       "      <th>rank</th>\n",
       "      <th>count</th>\n",
       "      <th>prop100k</th>\n",
       "      <th>cum_prop100k</th>\n",
       "      <th>pctwhite</th>\n",
       "      <th>pctblack</th>\n",
       "      <th>pctapi</th>\n",
       "      <th>pctaian</th>\n",
       "      <th>pct2prace</th>\n",
       "      <th>pcthispanic</th>\n",
       "    </tr>\n",
       "  </thead>\n",
       "  <tbody>\n",
       "    <tr>\n",
       "      <th>0</th>\n",
       "      <td>SMITH</td>\n",
       "      <td>1</td>\n",
       "      <td>2376206</td>\n",
       "      <td>880.85</td>\n",
       "      <td>880.85</td>\n",
       "      <td>73.35</td>\n",
       "      <td>22.22</td>\n",
       "      <td>0.40</td>\n",
       "      <td>0.85</td>\n",
       "      <td>1.63</td>\n",
       "      <td>1.56</td>\n",
       "    </tr>\n",
       "    <tr>\n",
       "      <th>1</th>\n",
       "      <td>JOHNSON</td>\n",
       "      <td>2</td>\n",
       "      <td>1857160</td>\n",
       "      <td>688.44</td>\n",
       "      <td>1569.30</td>\n",
       "      <td>61.55</td>\n",
       "      <td>33.80</td>\n",
       "      <td>0.42</td>\n",
       "      <td>0.91</td>\n",
       "      <td>1.82</td>\n",
       "      <td>1.50</td>\n",
       "    </tr>\n",
       "    <tr>\n",
       "      <th>2</th>\n",
       "      <td>WILLIAMS</td>\n",
       "      <td>3</td>\n",
       "      <td>1534042</td>\n",
       "      <td>568.66</td>\n",
       "      <td>2137.96</td>\n",
       "      <td>48.52</td>\n",
       "      <td>46.72</td>\n",
       "      <td>0.37</td>\n",
       "      <td>0.78</td>\n",
       "      <td>2.01</td>\n",
       "      <td>1.60</td>\n",
       "    </tr>\n",
       "    <tr>\n",
       "      <th>3</th>\n",
       "      <td>BROWN</td>\n",
       "      <td>4</td>\n",
       "      <td>1380145</td>\n",
       "      <td>511.62</td>\n",
       "      <td>2649.58</td>\n",
       "      <td>60.71</td>\n",
       "      <td>34.54</td>\n",
       "      <td>0.41</td>\n",
       "      <td>0.83</td>\n",
       "      <td>1.86</td>\n",
       "      <td>1.64</td>\n",
       "    </tr>\n",
       "    <tr>\n",
       "      <th>4</th>\n",
       "      <td>JONES</td>\n",
       "      <td>5</td>\n",
       "      <td>1362755</td>\n",
       "      <td>505.17</td>\n",
       "      <td>3154.75</td>\n",
       "      <td>57.69</td>\n",
       "      <td>37.73</td>\n",
       "      <td>0.35</td>\n",
       "      <td>0.94</td>\n",
       "      <td>1.85</td>\n",
       "      <td>1.44</td>\n",
       "    </tr>\n",
       "  </tbody>\n",
       "</table>\n",
       "</div>"
      ],
      "text/plain": [
       "       name  rank    count  prop100k  cum_prop100k pctwhite pctblack pctapi  \\\n",
       "0     SMITH     1  2376206    880.85        880.85    73.35    22.22   0.40   \n",
       "1   JOHNSON     2  1857160    688.44       1569.30    61.55    33.80   0.42   \n",
       "2  WILLIAMS     3  1534042    568.66       2137.96    48.52    46.72   0.37   \n",
       "3     BROWN     4  1380145    511.62       2649.58    60.71    34.54   0.41   \n",
       "4     JONES     5  1362755    505.17       3154.75    57.69    37.73   0.35   \n",
       "\n",
       "  pctaian pct2prace pcthispanic  \n",
       "0    0.85      1.63        1.56  \n",
       "1    0.91      1.82        1.50  \n",
       "2    0.78      2.01        1.60  \n",
       "3    0.83      1.86        1.64  \n",
       "4    0.94      1.85        1.44  "
      ]
     },
     "execution_count": 8,
     "metadata": {},
     "output_type": "execute_result"
    }
   ],
   "source": [
    "data().head()"
   ]
  },
  {
   "cell_type": "markdown",
   "metadata": {},
   "source": [
    "#### Create a DataFrame called `surnames` that only contains the `name` column"
   ]
  },
  {
   "cell_type": "code",
   "execution_count": 9,
   "metadata": {},
   "outputs": [
    {
     "name": "stdout",
     "output_type": "stream",
     "text": [
      "(151671, 1)\n"
     ]
    },
    {
     "data": {
      "text/html": [
       "<div>\n",
       "<style scoped>\n",
       "    .dataframe tbody tr th:only-of-type {\n",
       "        vertical-align: middle;\n",
       "    }\n",
       "\n",
       "    .dataframe tbody tr th {\n",
       "        vertical-align: top;\n",
       "    }\n",
       "\n",
       "    .dataframe thead th {\n",
       "        text-align: right;\n",
       "    }\n",
       "</style>\n",
       "<table border=\"1\" class=\"dataframe\">\n",
       "  <thead>\n",
       "    <tr style=\"text-align: right;\">\n",
       "      <th></th>\n",
       "      <th>name</th>\n",
       "    </tr>\n",
       "  </thead>\n",
       "  <tbody>\n",
       "    <tr>\n",
       "      <th>0</th>\n",
       "      <td>SMITH</td>\n",
       "    </tr>\n",
       "    <tr>\n",
       "      <th>1</th>\n",
       "      <td>JOHNSON</td>\n",
       "    </tr>\n",
       "    <tr>\n",
       "      <th>2</th>\n",
       "      <td>WILLIAMS</td>\n",
       "    </tr>\n",
       "    <tr>\n",
       "      <th>3</th>\n",
       "      <td>BROWN</td>\n",
       "    </tr>\n",
       "    <tr>\n",
       "      <th>4</th>\n",
       "      <td>JONES</td>\n",
       "    </tr>\n",
       "  </tbody>\n",
       "</table>\n",
       "</div>"
      ],
      "text/plain": [
       "       name\n",
       "0     SMITH\n",
       "1   JOHNSON\n",
       "2  WILLIAMS\n",
       "3     BROWN\n",
       "4     JONES"
      ]
     },
     "execution_count": 9,
     "metadata": {},
     "output_type": "execute_result"
    }
   ],
   "source": [
    "surnames = None\n",
    "### BEGIN SOLUTION\n",
    "surnames = data()[[\"name\"]]\n",
    "### END SOLUTION\n",
    "print(surnames.shape)\n",
    "surnames.head()"
   ]
  },
  {
   "cell_type": "markdown",
   "metadata": {},
   "source": [
    "#### Write a function `get_last_name1` \n",
    "\n",
    "* takes a DataFrame with the surnames\n",
    "* a keyword argument `col` containing the name of the column with the names\n",
    "* a keyword arguemnt `seed` with default value `None`"
   ]
  },
  {
   "cell_type": "code",
   "execution_count": 10,
   "metadata": {},
   "outputs": [],
   "source": [
    "def get_lastname1(surnames, col=\"name\", seed=None):\n",
    "    ### BEGIN SOLUTION\n",
    "\n",
    "    random.seed(seed)\n",
    "    return random.choice(surnames[col])\n",
    "    ### END SOLUTION"
   ]
  },
  {
   "cell_type": "code",
   "execution_count": 13,
   "metadata": {},
   "outputs": [
    {
     "data": {
      "text/plain": [
       "'ORLANDINI'"
      ]
     },
     "execution_count": 13,
     "metadata": {},
     "output_type": "execute_result"
    }
   ],
   "source": [
    "get_lastname1(surnames)"
   ]
  },
  {
   "cell_type": "markdown",
   "metadata": {},
   "source": [
    "#### Create a population of 1000 `Person` objects with randomly generated surnames (`last_name`)"
   ]
  },
  {
   "cell_type": "code",
   "execution_count": 24,
   "metadata": {},
   "outputs": [],
   "source": [
    "population = [person.Person(first_name=\"\", last_name=get_lastname1(surnames)) \n",
    "                  for i in range(1000)]"
   ]
  },
  {
   "cell_type": "code",
   "execution_count": 18,
   "metadata": {},
   "outputs": [
    {
     "data": {
      "text/plain": [
       "'This is my last name:MCQUIRK'"
      ]
     },
     "execution_count": 18,
     "metadata": {},
     "output_type": "execute_result"
    }
   ],
   "source": [
    "population[0].last_name"
   ]
  },
  {
   "cell_type": "code",
   "execution_count": 26,
   "metadata": {},
   "outputs": [
    {
     "data": {
      "text/plain": [
       "(151671, 1)"
      ]
     },
     "execution_count": 26,
     "metadata": {},
     "output_type": "execute_result"
    }
   ],
   "source": [
    "p = population[0]\n",
    "surnames.shape"
   ]
  },
  {
   "cell_type": "markdown",
   "metadata": {},
   "source": [
    "#### How could I look at the frequency of names?"
   ]
  },
  {
   "cell_type": "code",
   "execution_count": 25,
   "metadata": {},
   "outputs": [
    {
     "data": {
      "text/plain": [
       "[('BUSHBY', 2),\n",
       " ('GAULDEN', 2),\n",
       " ('MUSCOLINO', 2),\n",
       " ('RITENOUR', 2),\n",
       " ('MUGLER', 1),\n",
       " ('FONKEN', 1),\n",
       " ('HARNAR', 1),\n",
       " ('MARGARITO', 1),\n",
       " ('SECREASE', 1),\n",
       " ('HAGEMEYER', 1),\n",
       " ('SPORL', 1),\n",
       " ('WOGOMAN', 1),\n",
       " ('SOSTENES', 1),\n",
       " ('STRIBLING', 1),\n",
       " ('SERIGNESE', 1),\n",
       " ('NYGARD', 1),\n",
       " ('BRYNILDSEN', 1),\n",
       " ('DIEZEL', 1),\n",
       " ('RODAS', 1),\n",
       " ('GUTHMILLER', 1),\n",
       " ('BREITWIESER', 1),\n",
       " ('BUMANLAG', 1),\n",
       " ('RABELLO', 1),\n",
       " ('MURBACH', 1),\n",
       " ('PYATT', 1),\n",
       " ('GATHJE', 1),\n",
       " ('SAUSSER', 1),\n",
       " ('ARCHACKI', 1),\n",
       " ('HALLISSEY', 1),\n",
       " ('LARREYNAGA', 1),\n",
       " ('ETNYRE', 1),\n",
       " ('FISETTE', 1),\n",
       " ('GUTEREZ', 1),\n",
       " ('ERMISCH', 1),\n",
       " ('DREAGER', 1),\n",
       " ('EIKMEIER', 1),\n",
       " ('DORANTES', 1),\n",
       " ('TULUMELLO', 1),\n",
       " ('SMALLACOMBE', 1),\n",
       " ('HALLAUER', 1),\n",
       " ('GILLICH', 1),\n",
       " ('KRAUCH', 1),\n",
       " ('CACATIAN', 1),\n",
       " ('FAYERWEATHER', 1),\n",
       " ('PEZZINO', 1),\n",
       " ('GAA', 1),\n",
       " ('HESSIAN', 1),\n",
       " ('MISKOWIC', 1),\n",
       " ('GUZOWSKI', 1),\n",
       " ('GETTLE', 1)]"
      ]
     },
     "execution_count": 25,
     "metadata": {},
     "output_type": "execute_result"
    }
   ],
   "source": [
    "from collections import Counter\n",
    "Counter([p.last_name for p in population]).most_common(50)"
   ]
  },
  {
   "cell_type": "markdown",
   "metadata": {},
   "source": [
    "### Create `DataFrame` with columns `name` and `count`"
   ]
  },
  {
   "cell_type": "code",
   "execution_count": 27,
   "metadata": {},
   "outputs": [
    {
     "data": {
      "text/html": [
       "<div>\n",
       "<style scoped>\n",
       "    .dataframe tbody tr th:only-of-type {\n",
       "        vertical-align: middle;\n",
       "    }\n",
       "\n",
       "    .dataframe tbody tr th {\n",
       "        vertical-align: top;\n",
       "    }\n",
       "\n",
       "    .dataframe thead th {\n",
       "        text-align: right;\n",
       "    }\n",
       "</style>\n",
       "<table border=\"1\" class=\"dataframe\">\n",
       "  <thead>\n",
       "    <tr style=\"text-align: right;\">\n",
       "      <th></th>\n",
       "      <th>name</th>\n",
       "      <th>count</th>\n",
       "    </tr>\n",
       "  </thead>\n",
       "  <tbody>\n",
       "    <tr>\n",
       "      <th>0</th>\n",
       "      <td>SMITH</td>\n",
       "      <td>2376206</td>\n",
       "    </tr>\n",
       "    <tr>\n",
       "      <th>1</th>\n",
       "      <td>JOHNSON</td>\n",
       "      <td>1857160</td>\n",
       "    </tr>\n",
       "    <tr>\n",
       "      <th>2</th>\n",
       "      <td>WILLIAMS</td>\n",
       "      <td>1534042</td>\n",
       "    </tr>\n",
       "    <tr>\n",
       "      <th>3</th>\n",
       "      <td>BROWN</td>\n",
       "      <td>1380145</td>\n",
       "    </tr>\n",
       "    <tr>\n",
       "      <th>4</th>\n",
       "      <td>JONES</td>\n",
       "      <td>1362755</td>\n",
       "    </tr>\n",
       "  </tbody>\n",
       "</table>\n",
       "</div>"
      ],
      "text/plain": [
       "       name    count\n",
       "0     SMITH  2376206\n",
       "1   JOHNSON  1857160\n",
       "2  WILLIAMS  1534042\n",
       "3     BROWN  1380145\n",
       "4     JONES  1362755"
      ]
     },
     "execution_count": 27,
     "metadata": {},
     "output_type": "execute_result"
    }
   ],
   "source": [
    "surnames = data()[[\"name\", \"count\"]]\n",
    "surnames.head()"
   ]
  },
  {
   "cell_type": "markdown",
   "metadata": {},
   "source": [
    "### Filter `surnames` so we only keep names that occurred at least 10000 times"
   ]
  },
  {
   "cell_type": "code",
   "execution_count": 29,
   "metadata": {},
   "outputs": [
    {
     "data": {
      "text/plain": [
       "(3287, 2)"
      ]
     },
     "execution_count": 29,
     "metadata": {},
     "output_type": "execute_result"
    }
   ],
   "source": [
    "surnames = surnames[surnames[\"count\"] >= 10000]\n",
    "surnames.shape"
   ]
  },
  {
   "cell_type": "code",
   "execution_count": 41,
   "metadata": {},
   "outputs": [],
   "source": [
    "name_set = set(surnames.name)\n",
    "complete_name_set = set(data()[[\"name\"]][\"name\"])"
   ]
  },
  {
   "cell_type": "code",
   "execution_count": 42,
   "metadata": {},
   "outputs": [
    {
     "data": {
      "text/plain": [
       "True"
      ]
     },
     "execution_count": 42,
     "metadata": {},
     "output_type": "execute_result"
    }
   ],
   "source": [
    "name_set < complete_name_set"
   ]
  },
  {
   "cell_type": "code",
   "execution_count": 39,
   "metadata": {},
   "outputs": [
    {
     "data": {
      "text/plain": [
       "(3287, 1)"
      ]
     },
     "execution_count": 39,
     "metadata": {},
     "output_type": "execute_result"
    }
   ],
   "source": [
    "len(name_set), len(complete_name_set)"
   ]
  },
  {
   "cell_type": "code",
   "execution_count": 33,
   "metadata": {},
   "outputs": [
    {
     "data": {
      "text/plain": [
       "True"
      ]
     },
     "execution_count": 33,
     "metadata": {},
     "output_type": "execute_result"
    }
   ],
   "source": [
    "\"CHAPMAN\" in name_set"
   ]
  },
  {
   "cell_type": "markdown",
   "metadata": {},
   "source": [
    "### Let's talk briefly about probabilities\n",
    "\n",
    "#### Example: \n",
    "\n",
    "I fill a vase with 60 red balls and 40 black balls. If I shake all the balls up and blindly draw one from the vase what is the probability that the ball will be red?\n",
    "\n",
    "How did we arrive at this?\n",
    "\n",
    "What is the probability of drawing a black ball?\n",
    "\n",
    "#### Add a column to `surnames` representing the probability of `name` occuring in the Census\n",
    "\n",
    "### Some basic probability concepts\n",
    "\n",
    "* A probability ($p$) has a value between zero and one: $0 \\le p \\le 1$\n",
    "* The sum of all the probabilities of potential outcomes (e.g. flipping a coin is heads or tails) is one: $\\sum p = 1$\n",
    "\n",
    "* $\\text{ probability heads } + \\text{ probability tails} = 1$\n",
    "* For a 6-sided die $p(1)+p(2)+p(3)+p(4)+p(5)+p(6)=1$\n",
    "* For our names $p(\\text{KASPER})+p(\\text{ZELLER})+\\cdots+p(\\text{SMITH})=1$"
   ]
  },
  {
   "cell_type": "code",
   "execution_count": 45,
   "metadata": {},
   "outputs": [
    {
     "data": {
      "text/plain": [
       "148459381"
      ]
     },
     "execution_count": 45,
     "metadata": {},
     "output_type": "execute_result"
    }
   ],
   "source": [
    "surnames[\"count\"].sum()"
   ]
  },
  {
   "cell_type": "code",
   "execution_count": 49,
   "metadata": {},
   "outputs": [
    {
     "data": {
      "text/html": [
       "<div>\n",
       "<style scoped>\n",
       "    .dataframe tbody tr th:only-of-type {\n",
       "        vertical-align: middle;\n",
       "    }\n",
       "\n",
       "    .dataframe tbody tr th {\n",
       "        vertical-align: top;\n",
       "    }\n",
       "\n",
       "    .dataframe thead th {\n",
       "        text-align: right;\n",
       "    }\n",
       "</style>\n",
       "<table border=\"1\" class=\"dataframe\">\n",
       "  <thead>\n",
       "    <tr style=\"text-align: right;\">\n",
       "      <th></th>\n",
       "      <th>name</th>\n",
       "      <th>count</th>\n",
       "      <th>probability</th>\n",
       "    </tr>\n",
       "  </thead>\n",
       "  <tbody>\n",
       "    <tr>\n",
       "      <th>3286</th>\n",
       "      <td>KASPER</td>\n",
       "      <td>10005</td>\n",
       "      <td>0.000067</td>\n",
       "    </tr>\n",
       "    <tr>\n",
       "      <th>3285</th>\n",
       "      <td>ZELLER</td>\n",
       "      <td>10006</td>\n",
       "      <td>0.000067</td>\n",
       "    </tr>\n",
       "    <tr>\n",
       "      <th>3284</th>\n",
       "      <td>SKIPPER</td>\n",
       "      <td>10010</td>\n",
       "      <td>0.000067</td>\n",
       "    </tr>\n",
       "    <tr>\n",
       "      <th>3283</th>\n",
       "      <td>CARBONE</td>\n",
       "      <td>10012</td>\n",
       "      <td>0.000067</td>\n",
       "    </tr>\n",
       "    <tr>\n",
       "      <th>3282</th>\n",
       "      <td>LAFFERTY</td>\n",
       "      <td>10014</td>\n",
       "      <td>0.000067</td>\n",
       "    </tr>\n",
       "  </tbody>\n",
       "</table>\n",
       "</div>"
      ],
      "text/plain": [
       "          name  count  probability\n",
       "3286    KASPER  10005     0.000067\n",
       "3285    ZELLER  10006     0.000067\n",
       "3284   SKIPPER  10010     0.000067\n",
       "3283   CARBONE  10012     0.000067\n",
       "3282  LAFFERTY  10014     0.000067"
      ]
     },
     "execution_count": 49,
     "metadata": {},
     "output_type": "execute_result"
    }
   ],
   "source": [
    "surnames[\"probability\"] = surnames[\"count\"]/surnames[\"count\"].sum()\n",
    "surnames = surnames.sort_values(by=\"probability\",ascending=True)\n",
    "surnames.head()"
   ]
  },
  {
   "cell_type": "code",
   "execution_count": 47,
   "metadata": {},
   "outputs": [
    {
     "data": {
      "text/plain": [
       "1.0"
      ]
     },
     "execution_count": 47,
     "metadata": {},
     "output_type": "execute_result"
    }
   ],
   "source": [
    "surnames.probability.sum()"
   ]
  },
  {
   "cell_type": "markdown",
   "metadata": {},
   "source": [
    "#### The most common name occurs about 1.5% of the time\n",
    "\n",
    "### Cumulative Probability\n",
    "\n",
    "We need one more concept: [cumulative probability](https://stattrek.com/statistics/dictionary.aspx?definition=cumulative_probability).\n",
    "\n",
    ">A cumulative probability refers to the probability that the value of a random variable falls within a specified range. Frequently, cumulative probabilities refer to the probability that a random variable is less than or equal to a specified value.\n",
    "\n",
    "#### Example:\n",
    "\n",
    "Cumulative probability that a die roll is less than or equal to 4:\n",
    "\n",
    "\\begin{eqnarray}\n",
    "    \\sum_{i\\le 4} p(i) & = \\\\\n",
    "    p(1) + p(2) + p(3) + p(4) & =\\\\\n",
    "    \\frac{1}{6} + \\frac{1}{6} + \\frac{1}{6} + \\frac{1}{6} &=\\\\\n",
    "    \\frac{2}{3}\n",
    "\\end{eqnarray}    \n"
   ]
  },
  {
   "cell_type": "markdown",
   "metadata": {},
   "source": [
    "### Compute the cumulative probabilities for our names\n",
    "\n",
    "The cumulative probability of a name (e.g. \"SKIPPER\") is the sum of its probability plus the probability of all the names with lower probability (less common).\n",
    "\n",
    "For example, the cumulative probability of the name \"SKIPPER\" is\n",
    "\n",
    "\\begin{eqnarray}\n",
    "p(\\text{KASPER})+p(\\text{ZELLER}) + p(\\text{SKIPPER}) & = &\\\\\n",
    "0.000067 + 0.000067 + 0.000067 & = &0.000202\n",
    "\\end{eqnarray}\n",
    "\n",
    "Result tail should look like this:\n",
    "\n",
    "<table border=\"1\" class=\"dataframe\">\n",
    "  <thead>\n",
    "    <tr style=\"text-align: right;\">\n",
    "      <th></th>\n",
    "      <th>name</th>\n",
    "      <th>count</th>\n",
    "      <th>probability</th>\n",
    "      <th>cumulative_probability</th>\n",
    "    </tr>\n",
    "  </thead>\n",
    "  <tbody>\n",
    "    <tr>\n",
    "      <th>4</th>\n",
    "      <td>JONES</td>\n",
    "      <td>1362755</td>\n",
    "      <td>0.009179</td>\n",
    "      <td>0.951855</td>\n",
    "    </tr>\n",
    "    <tr>\n",
    "      <th>3</th>\n",
    "      <td>BROWN</td>\n",
    "      <td>1380145</td>\n",
    "      <td>0.009296</td>\n",
    "      <td>0.961152</td>\n",
    "    </tr>\n",
    "    <tr>\n",
    "      <th>2</th>\n",
    "      <td>WILLIAMS</td>\n",
    "      <td>1534042</td>\n",
    "      <td>0.010333</td>\n",
    "      <td>0.971485</td>\n",
    "    </tr>\n",
    "    <tr>\n",
    "      <th>1</th>\n",
    "      <td>JOHNSON</td>\n",
    "      <td>1857160</td>\n",
    "      <td>0.012510</td>\n",
    "      <td>0.983994</td>\n",
    "    </tr>\n",
    "    <tr>\n",
    "      <th>0</th>\n",
    "      <td>SMITH</td>\n",
    "      <td>2376206</td>\n",
    "      <td>0.016006</td>\n",
    "      <td>1.000000</td>\n",
    "    </tr>\n",
    "  </tbody>\n",
    "</table>"
   ]
  },
  {
   "cell_type": "code",
   "execution_count": 51,
   "metadata": {},
   "outputs": [
    {
     "data": {
      "text/html": [
       "<div>\n",
       "<style scoped>\n",
       "    .dataframe tbody tr th:only-of-type {\n",
       "        vertical-align: middle;\n",
       "    }\n",
       "\n",
       "    .dataframe tbody tr th {\n",
       "        vertical-align: top;\n",
       "    }\n",
       "\n",
       "    .dataframe thead th {\n",
       "        text-align: right;\n",
       "    }\n",
       "</style>\n",
       "<table border=\"1\" class=\"dataframe\">\n",
       "  <thead>\n",
       "    <tr style=\"text-align: right;\">\n",
       "      <th></th>\n",
       "      <th>name</th>\n",
       "      <th>count</th>\n",
       "      <th>probability</th>\n",
       "      <th>cumulative_probability</th>\n",
       "    </tr>\n",
       "  </thead>\n",
       "  <tbody>\n",
       "    <tr>\n",
       "      <th>4</th>\n",
       "      <td>JONES</td>\n",
       "      <td>1362755</td>\n",
       "      <td>0.009179</td>\n",
       "      <td>0.951855</td>\n",
       "    </tr>\n",
       "    <tr>\n",
       "      <th>3</th>\n",
       "      <td>BROWN</td>\n",
       "      <td>1380145</td>\n",
       "      <td>0.009296</td>\n",
       "      <td>0.961152</td>\n",
       "    </tr>\n",
       "    <tr>\n",
       "      <th>2</th>\n",
       "      <td>WILLIAMS</td>\n",
       "      <td>1534042</td>\n",
       "      <td>0.010333</td>\n",
       "      <td>0.971485</td>\n",
       "    </tr>\n",
       "    <tr>\n",
       "      <th>1</th>\n",
       "      <td>JOHNSON</td>\n",
       "      <td>1857160</td>\n",
       "      <td>0.012510</td>\n",
       "      <td>0.983994</td>\n",
       "    </tr>\n",
       "    <tr>\n",
       "      <th>0</th>\n",
       "      <td>SMITH</td>\n",
       "      <td>2376206</td>\n",
       "      <td>0.016006</td>\n",
       "      <td>1.000000</td>\n",
       "    </tr>\n",
       "  </tbody>\n",
       "</table>\n",
       "</div>"
      ],
      "text/plain": [
       "       name    count  probability  cumulative_probability\n",
       "4     JONES  1362755     0.009179                0.951855\n",
       "3     BROWN  1380145     0.009296                0.961152\n",
       "2  WILLIAMS  1534042     0.010333                0.971485\n",
       "1   JOHNSON  1857160     0.012510                0.983994\n",
       "0     SMITH  2376206     0.016006                1.000000"
      ]
     },
     "execution_count": 51,
     "metadata": {},
     "output_type": "execute_result"
    }
   ],
   "source": [
    "surnames[\"cumulative_probability\"] = surnames[\"probability\"].cumsum()\n",
    "surnames.tail()"
   ]
  },
  {
   "cell_type": "code",
   "execution_count": 54,
   "metadata": {},
   "outputs": [
    {
     "data": {
      "text/plain": [
       "0.016005765240257763"
      ]
     },
     "execution_count": 54,
     "metadata": {},
     "output_type": "execute_result"
    }
   ],
   "source": [
    "surnames.cumulative_probability.iloc[-1]- surnames.cumulative_probability.iloc[-2]"
   ]
  },
  {
   "cell_type": "markdown",
   "metadata": {},
   "source": [
    "### Write a function `get_lastname2`\n",
    "\n",
    "This should be similar to `get_lastname1` except the probability of a name being returned is equal to the probability of that name occuring in our population.\n",
    "\n",
    "* Use `random.random`\n",
    "* Use `surnames.iterrows()`"
   ]
  },
  {
   "cell_type": "code",
   "execution_count": 58,
   "metadata": {},
   "outputs": [
    {
     "data": {
      "text/html": [
       "<div>\n",
       "<style scoped>\n",
       "    .dataframe tbody tr th:only-of-type {\n",
       "        vertical-align: middle;\n",
       "    }\n",
       "\n",
       "    .dataframe tbody tr th {\n",
       "        vertical-align: top;\n",
       "    }\n",
       "\n",
       "    .dataframe thead th {\n",
       "        text-align: right;\n",
       "    }\n",
       "</style>\n",
       "<table border=\"1\" class=\"dataframe\">\n",
       "  <thead>\n",
       "    <tr style=\"text-align: right;\">\n",
       "      <th></th>\n",
       "      <th>name</th>\n",
       "      <th>count</th>\n",
       "      <th>probability</th>\n",
       "      <th>cumulative_probability</th>\n",
       "    </tr>\n",
       "  </thead>\n",
       "  <tbody>\n",
       "    <tr>\n",
       "      <th>3286</th>\n",
       "      <td>KASPER</td>\n",
       "      <td>10005</td>\n",
       "      <td>0.000067</td>\n",
       "      <td>0.000067</td>\n",
       "    </tr>\n",
       "    <tr>\n",
       "      <th>3285</th>\n",
       "      <td>ZELLER</td>\n",
       "      <td>10006</td>\n",
       "      <td>0.000067</td>\n",
       "      <td>0.000135</td>\n",
       "    </tr>\n",
       "    <tr>\n",
       "      <th>3284</th>\n",
       "      <td>SKIPPER</td>\n",
       "      <td>10010</td>\n",
       "      <td>0.000067</td>\n",
       "      <td>0.000202</td>\n",
       "    </tr>\n",
       "    <tr>\n",
       "      <th>3283</th>\n",
       "      <td>CARBONE</td>\n",
       "      <td>10012</td>\n",
       "      <td>0.000067</td>\n",
       "      <td>0.000270</td>\n",
       "    </tr>\n",
       "    <tr>\n",
       "      <th>3282</th>\n",
       "      <td>LAFFERTY</td>\n",
       "      <td>10014</td>\n",
       "      <td>0.000067</td>\n",
       "      <td>0.000337</td>\n",
       "    </tr>\n",
       "  </tbody>\n",
       "</table>\n",
       "</div>"
      ],
      "text/plain": [
       "          name  count  probability  cumulative_probability\n",
       "3286    KASPER  10005     0.000067                0.000067\n",
       "3285    ZELLER  10006     0.000067                0.000135\n",
       "3284   SKIPPER  10010     0.000067                0.000202\n",
       "3283   CARBONE  10012     0.000067                0.000270\n",
       "3282  LAFFERTY  10014     0.000067                0.000337"
      ]
     },
     "execution_count": 58,
     "metadata": {},
     "output_type": "execute_result"
    }
   ],
   "source": [
    "surnames.head()"
   ]
  },
  {
   "cell_type": "code",
   "execution_count": 57,
   "metadata": {},
   "outputs": [
    {
     "data": {
      "text/plain": [
       "0.34273758942229715"
      ]
     },
     "execution_count": 57,
     "metadata": {},
     "output_type": "execute_result"
    }
   ],
   "source": [
    "random.random()"
   ]
  },
  {
   "cell_type": "code",
   "execution_count": 59,
   "metadata": {},
   "outputs": [],
   "source": [
    "def get_lastname2(surnames, col = \"name\", seed=None):\n",
    "    ### BEGIN SOLUTION\n",
    "\n",
    "    random.seed(seed)\n",
    "    v = random.random()\n",
    "    tmp = surnames[surnames.cumulative_probability >=v]\n",
    "\n",
    "    return tmp[\"name\"].iloc[0]"
   ]
  },
  {
   "cell_type": "code",
   "execution_count": 65,
   "metadata": {},
   "outputs": [
    {
     "data": {
      "text/plain": [
       "[('SMITH', 176),\n",
       " ('JOHNSON', 128),\n",
       " ('WILLIAMS', 104),\n",
       " ('BROWN', 98),\n",
       " ('JONES', 97),\n",
       " ('MILLER', 77),\n",
       " ('ANDERSON', 67),\n",
       " ('WILSON', 58),\n",
       " ('DAVIS', 58),\n",
       " ('TAYLOR', 55),\n",
       " ('THOMPSON', 52),\n",
       " ('MARTINEZ', 52),\n",
       " ('HERNANDEZ', 52),\n",
       " ('RODRIGUEZ', 51),\n",
       " ('LOPEZ', 45),\n",
       " ('JACKSON', 45),\n",
       " ('GARCIA', 43),\n",
       " ('WHITE', 42),\n",
       " ('MARTIN', 42),\n",
       " ('GONZALEZ', 41),\n",
       " ('THOMAS', 41),\n",
       " ('HARRIS', 39),\n",
       " ('MOORE', 39),\n",
       " ('CARTER', 36),\n",
       " ('YOUNG', 35),\n",
       " ('ALLEN', 34),\n",
       " ('CLARK', 33),\n",
       " ('LEE', 32),\n",
       " ('MITCHELL', 32),\n",
       " ('KING', 31),\n",
       " ('BAKER', 30),\n",
       " ('SANCHEZ', 30),\n",
       " ('WRIGHT', 29),\n",
       " ('LEWIS', 28),\n",
       " ('SCOTT', 28),\n",
       " ('ADAMS', 28),\n",
       " ('HILL', 27),\n",
       " ('PEREZ', 27),\n",
       " ('EDWARDS', 26),\n",
       " ('RAMIREZ', 26),\n",
       " ('HALL', 26),\n",
       " ('COOK', 24),\n",
       " ('WALKER', 24),\n",
       " ('ROBINSON', 24),\n",
       " ('COOPER', 24),\n",
       " ('NGUYEN', 23),\n",
       " ('EVANS', 23),\n",
       " ('CAMPBELL', 23),\n",
       " ('BAILEY', 22),\n",
       " ('NELSON', 22)]"
      ]
     },
     "execution_count": 65,
     "metadata": {},
     "output_type": "execute_result"
    }
   ],
   "source": [
    "population2 = [person.Person(first_name=\"\", last_name=get_lastname2(surnames)) \n",
    "                  for i in range(10000)]\n",
    "\n",
    "Counter([p.last_name for p in population2]).most_common(50)"
   ]
  },
  {
   "cell_type": "code",
   "execution_count": null,
   "metadata": {},
   "outputs": [],
   "source": []
  }
 ],
 "metadata": {
  "kernelspec": {
   "display_name": "Python [default]",
   "language": "python",
   "name": "python3"
  },
  "language_info": {
   "codemirror_mode": {
    "name": "ipython",
    "version": 3
   },
   "file_extension": ".py",
   "mimetype": "text/x-python",
   "name": "python",
   "nbconvert_exporter": "python",
   "pygments_lexer": "ipython3",
   "version": "3.6.6"
  }
 },
 "nbformat": 4,
 "nbformat_minor": 2
}
