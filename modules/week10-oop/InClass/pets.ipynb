{
 "cells": [
  {
   "cell_type": "code",
   "execution_count": null,
   "metadata": {},
   "outputs": [],
   "source": [
    "from datetime import datetime as dt\n",
    "import time\n",
    "import datetime"
   ]
  },
  {
   "cell_type": "code",
   "execution_count": null,
   "metadata": {},
   "outputs": [],
   "source": [
    "\n",
    "\n",
    "import numbers\n",
    "class Animal(object):\n",
    "    SEXES = (\"M\", \"F\", \"O\")\n",
    "    DATE_FORMATS = [\"%B %d, %Y\", \"%m/%d/%Y\", \"%Y %B %d\", \"%m-%d-%Y\"]\n",
    "    SPECIES = {0:\"DOG\", 1:\"CAT\", 2:\"BIRD\"}\n",
    "\n",
    "    def __init__(self, dob=None, sex=\"F\", species=\"DOG\"):\n",
    "        if dob == None:\n",
    "            self.__dob = dt.now()\n",
    "        else:\n",
    "            self.dob = dob\n",
    "        self.sex = sex\n",
    "        self.species = species\n",
    "    \n",
    "\n",
    "    @property\n",
    "    def dob(self):\n",
    "        return self.__dob.strftime(\"%B %d, %Y\")\n",
    "    @dob.setter\n",
    "    def dob(self, v):\n",
    "        for f in DATE_FORMATS:\n",
    "            try:\n",
    "                d = dt.strptime(v, f)\n",
    "                self.__dob = d\n",
    "                return\n",
    "            except ValueError:\n",
    "                pass \n",
    "        raise ValueError(\"date in unrecognized format\")\n",
    "    @property\n",
    "    def sex(self):\n",
    "        return self.__sex\n",
    "    @sex.setter\n",
    "    def sex(self, value):\n",
    "        v= value.upper()[0]\n",
    "        if v not in SEXES:\n",
    "            raise ValueError(\"Invalid sex\")\n",
    "        else:\n",
    "            self.__sex = v\n",
    "            \n",
    "    @property\n",
    "    def age(self):\n",
    "        delta = dt.now() - self.__dob\n",
    "        years = delta.days / 365.25\n",
    "        if years > 3:\n",
    "            return int(years), \"years\"\n",
    "        else:\n",
    "            return int(delta.days/30.42), \"months\"\n",
    "        \n",
    "    @property\n",
    "    def species(self):\n",
    "        return self.SPECIES[self.__species]\n",
    "    \n",
    "    @species.setter\n",
    "    def species(self, s):\n",
    "        \n",
    "        if isinstance(s, int):\n",
    "            if s in self.SPECIES:\n",
    "                self.__species = s\n",
    "            else:\n",
    "                raise ValueError(\"Unrecognized species\")\n",
    "        elif isinstance(s, str):\n",
    "            s = s.upper()\n",
    "            try:\n",
    "                items = self.SPECIES.items()\n",
    "                lookup = dict([(i[1],i[0]) for i in items])\n",
    "                self.__species = lookup[s]\n",
    "            except KeyError:\n",
    "                raise ValueError(\"Unrecognized species\")\n",
    "            \n",
    "    def __str__(self):\n",
    "        age = self.age\n",
    "        return \"\"\"%s, %s, %d %s\"\"\"%(self.species, self.sex, age[0], age[1])\n",
    "    "
   ]
  },
  {
   "cell_type": "code",
   "execution_count": null,
   "metadata": {},
   "outputs": [],
   "source": [
    "class Pet(Animal):\n",
    "    \n",
    "    def __init__(self, name=\"Gorm\", problems=None, **kwargs):\n",
    "        self.name = name\n",
    "        if problems == None:\n",
    "            self.problems = []\n",
    "        else:\n",
    "            self.problems = [p.upper() for p in problems]\n",
    "        super(Pet, self).__init__(**kwargs)\n",
    "        \n",
    "    @property\n",
    "    def name(self):\n",
    "        return self.__name\n",
    "    @name.setter\n",
    "    def name(self, v):\n",
    "        assert isinstance(v, str)\n",
    "        self.__name = v\n",
    "        \n",
    "    def __str__(self):\n",
    "        return '%s: '%self.name + super(Pet, self).__str__()\n",
    "        "
   ]
  },
  {
   "cell_type": "code",
   "execution_count": null,
   "metadata": {},
   "outputs": [],
   "source": [
    "argos = Pet(name=\"Argos\", sex = \"male\", species = \"DOG\", problems = [\"kids\"], dob = \"January 8, 2005\")"
   ]
  },
  {
   "cell_type": "code",
   "execution_count": null,
   "metadata": {},
   "outputs": [],
   "source": [
    "print(argos)"
   ]
  },
  {
   "cell_type": "code",
   "execution_count": null,
   "metadata": {},
   "outputs": [],
   "source": [
    "gorm = Pet(name=\"Gorm\", sex=\"Male\", species=0, dob=\"02/01/2018\")"
   ]
  },
  {
   "cell_type": "code",
   "execution_count": null,
   "metadata": {},
   "outputs": [],
   "source": [
    "class HouseHold(object):\n",
    "    def __init__(self, name, has = None):\n",
    "        self.name = name\n",
    "        if has == None:\n",
    "            self.has = []\n",
    "        else:\n",
    "            self.has = [h.upper() for h in has]\n",
    "    def match(self, pet):\n",
    "        for p in pet.problems:\n",
    "            if p in self.has:\n",
    "                return False\n",
    "        return True"
   ]
  },
  {
   "cell_type": "code",
   "execution_count": null,
   "metadata": {},
   "outputs": [],
   "source": [
    "h1 = HouseHold(\"Chapman\")\n",
    "h2 = HouseHold(\"Glass\", has=[\"kids\"])"
   ]
  },
  {
   "cell_type": "code",
   "execution_count": null,
   "metadata": {},
   "outputs": [],
   "source": [
    "h2.match(argos)"
   ]
  },
  {
   "cell_type": "code",
   "execution_count": null,
   "metadata": {},
   "outputs": [],
   "source": [
    "h2.match(gorm)"
   ]
  },
  {
   "cell_type": "code",
   "execution_count": null,
   "metadata": {},
   "outputs": [],
   "source": [
    "h1.match(argos)"
   ]
  },
  {
   "cell_type": "code",
   "execution_count": null,
   "metadata": {},
   "outputs": [],
   "source": []
  }
 ],
 "metadata": {
  "kernelspec": {
   "display_name": "Python [default]",
   "language": "python",
   "name": "python3"
  },
  "language_info": {
   "codemirror_mode": {
    "name": "ipython",
    "version": 3
   },
   "file_extension": ".py",
   "mimetype": "text/x-python",
   "name": "python",
   "nbconvert_exporter": "python",
   "pygments_lexer": "ipython3",
   "version": "3.6.4"
  }
 },
 "nbformat": 4,
 "nbformat_minor": 2
}
