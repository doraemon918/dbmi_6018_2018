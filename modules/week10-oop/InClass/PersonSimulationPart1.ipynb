{
 "cells": [
  {
   "cell_type": "code",
   "execution_count": null,
   "metadata": {},
   "outputs": [],
   "source": [
    "import pandas as pd\n",
    "import gzip\n",
    "import pickle\n",
    "import dateutil\n",
    "import datetime\n",
    "from dateutil.relativedelta import *\n",
    "import numpy.random as ra\n",
    "import math\n",
    "import random\n",
    "import seaborn as sns\n",
    "import numpy as np\n",
    "import numbers\n",
    "import uuid\n",
    "import person\n",
    "import quilt"
   ]
  },
  {
   "cell_type": "code",
   "execution_count": null,
   "metadata": {},
   "outputs": [],
   "source": [
    "from person import datetime"
   ]
  },
  {
   "cell_type": "markdown",
   "metadata": {},
   "source": [
    "# Selecting a surname for a person\n",
    "\n",
    "I have installed on `quiltdata.com` a file \"2010_surnames.csv\" that contains surname information from the 2010 US census. We will be using this file to generate names for persons we simulation with our Person class. The head of the file looks like this:\n",
    "\n",
    "<table border=\"1\" class=\"dataframe\">\n",
    "  <thead>\n",
    "    <tr style=\"text-align: right;\">\n",
    "      <th></th>\n",
    "      <th>name</th>\n",
    "      <th>rank</th>\n",
    "      <th>count</th>\n",
    "      <th>prop100k</th>\n",
    "      <th>cum_prop100k</th>\n",
    "      <th>pctwhite</th>\n",
    "      <th>pctblack</th>\n",
    "      <th>pctapi</th>\n",
    "      <th>pctaian</th>\n",
    "      <th>pct2prace</th>\n",
    "      <th>pcthispanic</th>\n",
    "    </tr>\n",
    "  </thead>\n",
    "  <tbody>\n",
    "    <tr>\n",
    "      <th>0</th>\n",
    "      <td>SMITH</td>\n",
    "      <td>1</td>\n",
    "      <td>2376206</td>\n",
    "      <td>880.85</td>\n",
    "      <td>880.85</td>\n",
    "      <td>73.35</td>\n",
    "      <td>22.22</td>\n",
    "      <td>0.40</td>\n",
    "      <td>0.85</td>\n",
    "      <td>1.63</td>\n",
    "      <td>1.56</td>\n",
    "    </tr>\n",
    "    <tr>\n",
    "      <th>1</th>\n",
    "      <td>JOHNSON</td>\n",
    "      <td>2</td>\n",
    "      <td>1857160</td>\n",
    "      <td>688.44</td>\n",
    "      <td>1569.30</td>\n",
    "      <td>61.55</td>\n",
    "      <td>33.80</td>\n",
    "      <td>0.42</td>\n",
    "      <td>0.91</td>\n",
    "      <td>1.82</td>\n",
    "      <td>1.50</td>\n",
    "    </tr>\n",
    "    <tr>\n",
    "      <th>2</th>\n",
    "      <td>WILLIAMS</td>\n",
    "      <td>3</td>\n",
    "      <td>1534042</td>\n",
    "      <td>568.66</td>\n",
    "      <td>2137.96</td>\n",
    "      <td>48.52</td>\n",
    "      <td>46.72</td>\n",
    "      <td>0.37</td>\n",
    "      <td>0.78</td>\n",
    "      <td>2.01</td>\n",
    "      <td>1.60</td>\n",
    "    </tr>\n",
    "    <tr>\n",
    "      <th>3</th>\n",
    "      <td>BROWN</td>\n",
    "      <td>4</td>\n",
    "      <td>1380145</td>\n",
    "      <td>511.62</td>\n",
    "      <td>2649.58</td>\n",
    "      <td>60.71</td>\n",
    "      <td>34.54</td>\n",
    "      <td>0.41</td>\n",
    "      <td>0.83</td>\n",
    "      <td>1.86</td>\n",
    "      <td>1.64</td>\n",
    "    </tr>\n",
    "    <tr>\n",
    "      <th>4</th>\n",
    "      <td>JONES</td>\n",
    "      <td>5</td>\n",
    "      <td>1362755</td>\n",
    "      <td>505.17</td>\n",
    "      <td>3154.75</td>\n",
    "      <td>57.69</td>\n",
    "      <td>37.73</td>\n",
    "      <td>0.35</td>\n",
    "      <td>0.94</td>\n",
    "      <td>1.85</td>\n",
    "      <td>1.44</td>\n",
    "    </tr>\n",
    "  </tbody>\n",
    "</table>\n",
    "\n",
    "Use Pandas to read this file into a DataFrame named `surnames` that only has columns `count` and `name`."
   ]
  },
  {
   "cell_type": "code",
   "execution_count": null,
   "metadata": {},
   "outputs": [],
   "source": [
    "quilt.install(\"u0069295/n2010_surnames\")\n",
    "from quilt.data.u0069295 import n2010_surnames as data"
   ]
  },
  {
   "cell_type": "markdown",
   "metadata": {},
   "source": [
    "### Accessing our data\n",
    "\n",
    "Calling `data()` will return a Pandas DataFrame"
   ]
  },
  {
   "cell_type": "code",
   "execution_count": null,
   "metadata": {},
   "outputs": [],
   "source": [
    "surnames = data()[]"
   ]
  },
  {
   "cell_type": "code",
   "execution_count": null,
   "metadata": {},
   "outputs": [],
   "source": []
  },
  {
   "cell_type": "code",
   "execution_count": null,
   "metadata": {},
   "outputs": [],
   "source": [
    "data().head()"
   ]
  },
  {
   "cell_type": "markdown",
   "metadata": {},
   "source": [
    "#### Create a DataFrame called `surnames` that only contains the `name` column"
   ]
  },
  {
   "cell_type": "code",
   "execution_count": null,
   "metadata": {},
   "outputs": [],
   "source": [
    "surnames = None\n",
    "### BEGIN SOLUTION\n",
    "surnames = data()[[\"name\"]]\n",
    "### END SOLUTION\n",
    "print(surnames.shape)\n",
    "surnames.head()"
   ]
  },
  {
   "cell_type": "markdown",
   "metadata": {},
   "source": [
    "#### Write a function `get_last_name1` \n",
    "\n",
    "* takes a DataFrame with the surnames\n",
    "* a keyword argument `col` containing the name of the column with the names\n",
    "* a keyword arguemnt `seed` with default value `None`"
   ]
  },
  {
   "cell_type": "code",
   "execution_count": null,
   "metadata": {},
   "outputs": [],
   "source": [
    "def get_lastname1(surnames, col=\"name\", seed=None):\n",
    "    ### BEGIN SOLUTION\n",
    "\n",
    "    random.seed(seed)\n",
    "    return random.choice(surnames[col])\n",
    "    ### END SOLUTION"
   ]
  },
  {
   "cell_type": "code",
   "execution_count": null,
   "metadata": {},
   "outputs": [],
   "source": [
    "get_lastname1(surnames)"
   ]
  },
  {
   "cell_type": "markdown",
   "metadata": {},
   "source": [
    "#### Create a population of 1000 `Person` objects with randomly generated surnames (`last_name`)"
   ]
  },
  {
   "cell_type": "code",
   "execution_count": null,
   "metadata": {},
   "outputs": [],
   "source": [
    "population = [person.Person(first_name=\"\", last_name=get_lastname1(surnames)) \n",
    "                  for i in range(1000)]"
   ]
  },
  {
   "cell_type": "markdown",
   "metadata": {},
   "source": [
    "#### How could I look at the frequency of names?"
   ]
  },
  {
   "cell_type": "code",
   "execution_count": null,
   "metadata": {},
   "outputs": [],
   "source": [
    "from collections import Counter\n",
    "Counter([p.last_name for p in population]).most_common(50)"
   ]
  },
  {
   "cell_type": "markdown",
   "metadata": {},
   "source": [
    "### Create `DataFrame` with columns `name` and `count`"
   ]
  },
  {
   "cell_type": "code",
   "execution_count": null,
   "metadata": {},
   "outputs": [],
   "source": [
    "surnames = data()[[\"name\", \"count\"]]\n",
    "surnames.head()"
   ]
  },
  {
   "cell_type": "markdown",
   "metadata": {},
   "source": [
    "### Filter `surnames` so we only keep names that occurred at least 10000 times"
   ]
  },
  {
   "cell_type": "code",
   "execution_count": null,
   "metadata": {},
   "outputs": [],
   "source": [
    "surnames = surnames[surnames[\"count\"] >= 10000]"
   ]
  },
  {
   "cell_type": "markdown",
   "metadata": {},
   "source": [
    "### Let's talk briefly about probabilities\n",
    "\n",
    "#### Example: \n",
    "\n",
    "I fill a vase with 60 red balls and 40 black balls. If I shake all the balls up and blindly draw one from the vase what is the probability that the ball will be red?\n",
    "\n",
    "How did we arrive at this?\n",
    "\n",
    "What is the probability of drawing a black ball?\n",
    "\n",
    "#### Add a column to `surnames` representing the probability of `name` occuring in the Census\n",
    "\n",
    "### Some basic probability concepts\n",
    "\n",
    "* A probability ($p$) has a value between zero and one: $0 \\le p \\le 1$\n",
    "* The sum of all the probabilities of potential outcomes (e.g. flipping a coin is heads or tails) is one: $\\sum p = 1$\n",
    "\n",
    "* $\\text{ probability heads } + \\text{ probability tails} = 1$\n",
    "* For a 6-sided die $p(1)+p(2)+p(3)+p(4)+p(5)+p(6)=1$\n",
    "* For our names $p(\\text{KASPER})+p(\\text{ZELLER})+\\cdots+p(\\text{SMITH})=1$"
   ]
  },
  {
   "cell_type": "code",
   "execution_count": null,
   "metadata": {},
   "outputs": [],
   "source": [
    "surnames[\"probability\"] = surnames[\"count\"]/surnames[\"count\"].sum()\n",
    "surnames = surnames.sort_values(by=\"probability\",ascending=True)\n",
    "surnames.head()"
   ]
  },
  {
   "cell_type": "markdown",
   "metadata": {},
   "source": [
    "#### The most common name occurs about 1.5% of the time\n",
    "\n",
    "### Cumulative Probability\n",
    "\n",
    "We need one more concept: [cumulative probability](https://stattrek.com/statistics/dictionary.aspx?definition=cumulative_probability).\n",
    "\n",
    ">A cumulative probability refers to the probability that the value of a random variable falls within a specified range. Frequently, cumulative probabilities refer to the probability that a random variable is less than or equal to a specified value.\n",
    "\n",
    "#### Example:\n",
    "\n",
    "Cumulative probability that a die roll is less than or equal to 4:\n",
    "\n",
    "\\begin{eqnarray}\n",
    "    \\sum_{i\\le 4} p(i) & = \\\\\n",
    "    p(1) + p(2) + p(3) + p(4) & =\\\\\n",
    "    \\frac{1}{6} + \\frac{1}{6} + \\frac{1}{6} + \\frac{1}{6} &=\\\\\n",
    "    \\frac{2}{3}\n",
    "\\end{eqnarray}    \n"
   ]
  },
  {
   "cell_type": "markdown",
   "metadata": {},
   "source": [
    "### Compute the cumulative probabilities for our names\n",
    "\n",
    "The cumulative probability of a name (e.g. \"SKIPPER\") is the sum of its probability plus the probability of all the names with lower probability (less common).\n",
    "\n",
    "For example, the cumulative probability of the name \"SKIPPER\" is\n",
    "\n",
    "\\begin{eqnarray}\n",
    "p(\\text{KASPER})+p(\\text{ZELLER}) + p(\\text{SKIPPER}) & = &\\\\\n",
    "0.000067 + 0.000067 + 0.000067 & = &0.000202\n",
    "\\end{eqnarray}\n",
    "\n",
    "Result tail should look like this:\n",
    "\n",
    "<table border=\"1\" class=\"dataframe\">\n",
    "  <thead>\n",
    "    <tr style=\"text-align: right;\">\n",
    "      <th></th>\n",
    "      <th>name</th>\n",
    "      <th>count</th>\n",
    "      <th>probability</th>\n",
    "      <th>cumulative_probability</th>\n",
    "    </tr>\n",
    "  </thead>\n",
    "  <tbody>\n",
    "    <tr>\n",
    "      <th>4</th>\n",
    "      <td>JONES</td>\n",
    "      <td>1362755</td>\n",
    "      <td>0.009179</td>\n",
    "      <td>0.951855</td>\n",
    "    </tr>\n",
    "    <tr>\n",
    "      <th>3</th>\n",
    "      <td>BROWN</td>\n",
    "      <td>1380145</td>\n",
    "      <td>0.009296</td>\n",
    "      <td>0.961152</td>\n",
    "    </tr>\n",
    "    <tr>\n",
    "      <th>2</th>\n",
    "      <td>WILLIAMS</td>\n",
    "      <td>1534042</td>\n",
    "      <td>0.010333</td>\n",
    "      <td>0.971485</td>\n",
    "    </tr>\n",
    "    <tr>\n",
    "      <th>1</th>\n",
    "      <td>JOHNSON</td>\n",
    "      <td>1857160</td>\n",
    "      <td>0.012510</td>\n",
    "      <td>0.983994</td>\n",
    "    </tr>\n",
    "    <tr>\n",
    "      <th>0</th>\n",
    "      <td>SMITH</td>\n",
    "      <td>2376206</td>\n",
    "      <td>0.016006</td>\n",
    "      <td>1.000000</td>\n",
    "    </tr>\n",
    "  </tbody>\n",
    "</table>"
   ]
  },
  {
   "cell_type": "code",
   "execution_count": null,
   "metadata": {},
   "outputs": [],
   "source": [
    "surnames[\"cumulative_probability\"] = surnames[\"probability\"].cumsum()\n",
    "surnames.head()"
   ]
  },
  {
   "cell_type": "markdown",
   "metadata": {},
   "source": [
    "### Write a function `get_lastname2`\n",
    "\n",
    "This should be similar to `get_lastname1` except the probability of a name being returned is equal to the probability of that name occuring in our population.\n",
    "\n",
    "* Use `random.random`\n",
    "* Use `surnames.iterrows()`"
   ]
  },
  {
   "cell_type": "code",
   "execution_count": null,
   "metadata": {},
   "outputs": [],
   "source": [
    "def get_lastname2(surnames, col = \"name\", seed=None):\n",
    "    ### BEGIN SOLUTION\n",
    "\n",
    "    random.seed(seed)\n",
    "    v = random.random()\n",
    "    tmp = surnames[surnames.cumulative_probability >=v]\n",
    "\n",
    "    return tmp[\"name\"].iloc[0]"
   ]
  },
  {
   "cell_type": "code",
   "execution_count": null,
   "metadata": {},
   "outputs": [],
   "source": [
    "population2 = [person.Person(first_name=\"\", last_name=get_lastname2(surnames)) \n",
    "                  for i in range(1000)]"
   ]
  },
  {
   "cell_type": "code",
   "execution_count": null,
   "metadata": {},
   "outputs": [],
   "source": [
    "Counter([p.last_name for p in population2]).most_common(50)"
   ]
  },
  {
   "cell_type": "code",
   "execution_count": null,
   "metadata": {},
   "outputs": [],
   "source": []
  }
 ],
 "metadata": {
  "kernelspec": {
   "display_name": "Python [default]",
   "language": "python",
   "name": "python3"
  },
  "language_info": {
   "codemirror_mode": {
    "name": "ipython",
    "version": 3
   },
   "file_extension": ".py",
   "mimetype": "text/x-python",
   "name": "python",
   "nbconvert_exporter": "python",
   "pygments_lexer": "ipython3",
   "version": "3.6.4"
  }
 },
 "nbformat": 4,
 "nbformat_minor": 2
}
