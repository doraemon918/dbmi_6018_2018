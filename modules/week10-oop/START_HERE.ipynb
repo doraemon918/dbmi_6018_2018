{
 "cells": [
  {
   "cell_type": "markdown",
   "metadata": {},
   "source": [
    "# Object Oriented Programming with Python\n",
    "\n",
    "Throughout this class we have been using the object oriented nature of Python. We have been using Python objects and accessing their attributes and methods. We will now explore how to define our own classes and thus create customized objects for our programs. \n",
    "\n",
    "\n",
    "## Readings\n",
    "\n",
    "* Chapter 8 \"CLASSES\", *Introduction to Computation and Programming Using Python: With Application to Understanding Data* \n",
    "\n",
    "### Other Resources\n",
    "\n",
    "* [\"The Python Data Model,\" *Fluent Python*](http://proquest.safaribooksonline.com/book/programming/python/9781491946237/1dot-the-python-data-model/data_model_html?uicode=uutah)\n",
    "* [*Python 3 Object-Oriented Programming*](http://proquest.safaribooksonline.com/book/programming/python/9781784398781/python-3-object-oriented-programming-second-edition/index_html?uicode=uutah)\n",
    "\n",
    "## Class Prep\n",
    "1. [Object Oriented Programming](./ClassPrep/1-OOP.ipynb)\n",
    "1. [Classes](./ClassPrep/2-Classes.ipynb)\n",
    "1. [Person Example](./ClassPrep/3-PersonExample.ipynb)\n",
    "1. [Special Methods](./ClassPrep/4-SpecialMethods.ipynb)\n",
    "1. [Private Attributes](./ClassPrep/5-PrivateAttributes.ipynb)"
   ]
  },
  {
   "cell_type": "code",
   "execution_count": null,
   "metadata": {},
   "outputs": [],
   "source": []
  }
 ],
 "metadata": {
  "anaconda-cloud": {},
  "kernelspec": {
   "display_name": "Python [default]",
   "language": "python",
   "name": "python3"
  },
  "language_info": {
   "codemirror_mode": {
    "name": "ipython",
    "version": 3
   },
   "file_extension": ".py",
   "mimetype": "text/x-python",
   "name": "python",
   "nbconvert_exporter": "python",
   "pygments_lexer": "ipython3",
   "version": "3.6.4"
  }
 },
 "nbformat": 4,
 "nbformat_minor": 1
}
